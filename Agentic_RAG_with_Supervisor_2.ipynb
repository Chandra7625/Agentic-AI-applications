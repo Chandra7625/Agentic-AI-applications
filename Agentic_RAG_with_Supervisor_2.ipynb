{
  "nbformat": 4,
  "nbformat_minor": 0,
  "metadata": {
    "colab": {
      "provenance": []
    },
    "kernelspec": {
      "name": "python3",
      "display_name": "Python 3"
    },
    "language_info": {
      "name": "python"
    }
  },
  "cells": [
    {
      "cell_type": "code",
      "execution_count": null,
      "metadata": {
        "id": "5DMahUq-ZSQW",
        "colab": {
          "base_uri": "https://localhost:8080/"
        },
        "collapsed": true,
        "outputId": "f9d9f988-6678-4f6f-cda5-35fff1cd4658"
      },
      "outputs": [
        {
          "output_type": "stream",
          "name": "stdout",
          "text": [
            "Collecting python-dotenv\n",
            "  Downloading python_dotenv-1.1.1-py3-none-any.whl.metadata (24 kB)\n",
            "Downloading python_dotenv-1.1.1-py3-none-any.whl (20 kB)\n",
            "Installing collected packages: python-dotenv\n",
            "Successfully installed python-dotenv-1.1.1\n",
            "Collecting langchain-pinecone\n",
            "  Downloading langchain_pinecone-0.2.8-py3-none-any.whl.metadata (5.3 kB)\n",
            "Collecting langchain-openai\n",
            "  Downloading langchain_openai-0.3.26-py3-none-any.whl.metadata (2.3 kB)\n",
            "Collecting langchain-community\n",
            "  Downloading langchain_community-0.3.26-py3-none-any.whl.metadata (2.9 kB)\n",
            "Requirement already satisfied: langchain-core<1.0.0,>=0.3.34 in /usr/local/lib/python3.11/dist-packages (from langchain-pinecone) (0.3.66)\n",
            "Collecting pinecone<8.0.0,>=6.0.0 (from pinecone[asyncio]<8.0.0,>=6.0.0->langchain-pinecone)\n",
            "  Downloading pinecone-7.2.0-py3-none-any.whl.metadata (9.5 kB)\n",
            "Requirement already satisfied: numpy>=1.26.4 in /usr/local/lib/python3.11/dist-packages (from langchain-pinecone) (2.0.2)\n",
            "Collecting langchain-tests<1.0.0,>=0.3.7 (from langchain-pinecone)\n",
            "  Downloading langchain_tests-0.3.20-py3-none-any.whl.metadata (3.3 kB)\n",
            "Requirement already satisfied: openai<2.0.0,>=1.86.0 in /usr/local/lib/python3.11/dist-packages (from langchain-openai) (1.91.0)\n",
            "Requirement already satisfied: tiktoken<1,>=0.7 in /usr/local/lib/python3.11/dist-packages (from langchain-openai) (0.9.0)\n",
            "Requirement already satisfied: langchain<1.0.0,>=0.3.26 in /usr/local/lib/python3.11/dist-packages (from langchain-community) (0.3.26)\n",
            "Requirement already satisfied: SQLAlchemy<3,>=1.4 in /usr/local/lib/python3.11/dist-packages (from langchain-community) (2.0.41)\n",
            "Requirement already satisfied: requests<3,>=2 in /usr/local/lib/python3.11/dist-packages (from langchain-community) (2.32.3)\n",
            "Requirement already satisfied: PyYAML>=5.3 in /usr/local/lib/python3.11/dist-packages (from langchain-community) (6.0.2)\n",
            "Requirement already satisfied: aiohttp<4.0.0,>=3.8.3 in /usr/local/lib/python3.11/dist-packages (from langchain-community) (3.11.15)\n",
            "Requirement already satisfied: tenacity!=8.4.0,<10,>=8.1.0 in /usr/local/lib/python3.11/dist-packages (from langchain-community) (8.5.0)\n",
            "Collecting dataclasses-json<0.7,>=0.5.7 (from langchain-community)\n",
            "  Downloading dataclasses_json-0.6.7-py3-none-any.whl.metadata (25 kB)\n",
            "Collecting pydantic-settings<3.0.0,>=2.4.0 (from langchain-community)\n",
            "  Downloading pydantic_settings-2.10.1-py3-none-any.whl.metadata (3.4 kB)\n",
            "Requirement already satisfied: langsmith>=0.1.125 in /usr/local/lib/python3.11/dist-packages (from langchain-community) (0.4.1)\n",
            "Collecting httpx-sse<1.0.0,>=0.4.0 (from langchain-community)\n",
            "  Downloading httpx_sse-0.4.1-py3-none-any.whl.metadata (9.4 kB)\n",
            "Requirement already satisfied: aiohappyeyeballs>=2.3.0 in /usr/local/lib/python3.11/dist-packages (from aiohttp<4.0.0,>=3.8.3->langchain-community) (2.6.1)\n",
            "Requirement already satisfied: aiosignal>=1.1.2 in /usr/local/lib/python3.11/dist-packages (from aiohttp<4.0.0,>=3.8.3->langchain-community) (1.3.2)\n",
            "Requirement already satisfied: attrs>=17.3.0 in /usr/local/lib/python3.11/dist-packages (from aiohttp<4.0.0,>=3.8.3->langchain-community) (25.3.0)\n",
            "Requirement already satisfied: frozenlist>=1.1.1 in /usr/local/lib/python3.11/dist-packages (from aiohttp<4.0.0,>=3.8.3->langchain-community) (1.7.0)\n",
            "Requirement already satisfied: multidict<7.0,>=4.5 in /usr/local/lib/python3.11/dist-packages (from aiohttp<4.0.0,>=3.8.3->langchain-community) (6.5.0)\n",
            "Requirement already satisfied: propcache>=0.2.0 in /usr/local/lib/python3.11/dist-packages (from aiohttp<4.0.0,>=3.8.3->langchain-community) (0.3.2)\n",
            "Requirement already satisfied: yarl<2.0,>=1.17.0 in /usr/local/lib/python3.11/dist-packages (from aiohttp<4.0.0,>=3.8.3->langchain-community) (1.20.1)\n",
            "Collecting marshmallow<4.0.0,>=3.18.0 (from dataclasses-json<0.7,>=0.5.7->langchain-community)\n",
            "  Downloading marshmallow-3.26.1-py3-none-any.whl.metadata (7.3 kB)\n",
            "Collecting typing-inspect<1,>=0.4.0 (from dataclasses-json<0.7,>=0.5.7->langchain-community)\n",
            "  Downloading typing_inspect-0.9.0-py3-none-any.whl.metadata (1.5 kB)\n",
            "Requirement already satisfied: langchain-text-splitters<1.0.0,>=0.3.8 in /usr/local/lib/python3.11/dist-packages (from langchain<1.0.0,>=0.3.26->langchain-community) (0.3.8)\n",
            "Requirement already satisfied: pydantic<3.0.0,>=2.7.4 in /usr/local/lib/python3.11/dist-packages (from langchain<1.0.0,>=0.3.26->langchain-community) (2.11.7)\n",
            "Requirement already satisfied: jsonpatch<2.0,>=1.33 in /usr/local/lib/python3.11/dist-packages (from langchain-core<1.0.0,>=0.3.34->langchain-pinecone) (1.33)\n",
            "Requirement already satisfied: packaging<25,>=23.2 in /usr/local/lib/python3.11/dist-packages (from langchain-core<1.0.0,>=0.3.34->langchain-pinecone) (24.2)\n",
            "Requirement already satisfied: typing-extensions>=4.7 in /usr/local/lib/python3.11/dist-packages (from langchain-core<1.0.0,>=0.3.34->langchain-pinecone) (4.14.0)\n",
            "Requirement already satisfied: pytest<9,>=7 in /usr/local/lib/python3.11/dist-packages (from langchain-tests<1.0.0,>=0.3.7->langchain-pinecone) (8.3.5)\n",
            "Collecting pytest-asyncio<1,>=0.20 (from langchain-tests<1.0.0,>=0.3.7->langchain-pinecone)\n",
            "  Downloading pytest_asyncio-0.26.0-py3-none-any.whl.metadata (4.0 kB)\n",
            "Requirement already satisfied: httpx<1,>=0.25.0 in /usr/local/lib/python3.11/dist-packages (from langchain-tests<1.0.0,>=0.3.7->langchain-pinecone) (0.28.1)\n",
            "Collecting syrupy<5,>=4 (from langchain-tests<1.0.0,>=0.3.7->langchain-pinecone)\n",
            "  Downloading syrupy-4.9.1-py3-none-any.whl.metadata (38 kB)\n",
            "Collecting pytest-socket<1,>=0.6.0 (from langchain-tests<1.0.0,>=0.3.7->langchain-pinecone)\n",
            "  Downloading pytest_socket-0.7.0-py3-none-any.whl.metadata (6.7 kB)\n",
            "Collecting pytest-benchmark (from langchain-tests<1.0.0,>=0.3.7->langchain-pinecone)\n",
            "  Downloading pytest_benchmark-5.1.0-py3-none-any.whl.metadata (25 kB)\n",
            "Collecting pytest-codspeed (from langchain-tests<1.0.0,>=0.3.7->langchain-pinecone)\n",
            "  Downloading pytest_codspeed-3.2.0-cp311-cp311-manylinux_2_5_x86_64.manylinux1_x86_64.manylinux_2_28_x86_64.whl.metadata (6.3 kB)\n",
            "Collecting pytest-recording (from langchain-tests<1.0.0,>=0.3.7->langchain-pinecone)\n",
            "  Downloading pytest_recording-0.13.4-py3-none-any.whl.metadata (11 kB)\n",
            "Collecting vcrpy>=7.0 (from langchain-tests<1.0.0,>=0.3.7->langchain-pinecone)\n",
            "  Downloading vcrpy-7.0.0-py2.py3-none-any.whl.metadata (4.6 kB)\n",
            "Requirement already satisfied: orjson<4.0.0,>=3.9.14 in /usr/local/lib/python3.11/dist-packages (from langsmith>=0.1.125->langchain-community) (3.10.18)\n",
            "Requirement already satisfied: requests-toolbelt<2.0.0,>=1.0.0 in /usr/local/lib/python3.11/dist-packages (from langsmith>=0.1.125->langchain-community) (1.0.0)\n",
            "Requirement already satisfied: zstandard<0.24.0,>=0.23.0 in /usr/local/lib/python3.11/dist-packages (from langsmith>=0.1.125->langchain-community) (0.23.0)\n",
            "Requirement already satisfied: anyio<5,>=3.5.0 in /usr/local/lib/python3.11/dist-packages (from openai<2.0.0,>=1.86.0->langchain-openai) (4.9.0)\n",
            "Requirement already satisfied: distro<2,>=1.7.0 in /usr/local/lib/python3.11/dist-packages (from openai<2.0.0,>=1.86.0->langchain-openai) (1.9.0)\n",
            "Requirement already satisfied: jiter<1,>=0.4.0 in /usr/local/lib/python3.11/dist-packages (from openai<2.0.0,>=1.86.0->langchain-openai) (0.10.0)\n",
            "Requirement already satisfied: sniffio in /usr/local/lib/python3.11/dist-packages (from openai<2.0.0,>=1.86.0->langchain-openai) (1.3.1)\n",
            "Requirement already satisfied: tqdm>4 in /usr/local/lib/python3.11/dist-packages (from openai<2.0.0,>=1.86.0->langchain-openai) (4.67.1)\n",
            "Requirement already satisfied: certifi>=2019.11.17 in /usr/local/lib/python3.11/dist-packages (from pinecone<8.0.0,>=6.0.0->pinecone[asyncio]<8.0.0,>=6.0.0->langchain-pinecone) (2025.6.15)\n",
            "Collecting pinecone-plugin-assistant<2.0.0,>=1.6.0 (from pinecone<8.0.0,>=6.0.0->pinecone[asyncio]<8.0.0,>=6.0.0->langchain-pinecone)\n",
            "  Downloading pinecone_plugin_assistant-1.7.0-py3-none-any.whl.metadata (28 kB)\n",
            "Collecting pinecone-plugin-interface<0.0.8,>=0.0.7 (from pinecone<8.0.0,>=6.0.0->pinecone[asyncio]<8.0.0,>=6.0.0->langchain-pinecone)\n",
            "  Downloading pinecone_plugin_interface-0.0.7-py3-none-any.whl.metadata (1.2 kB)\n",
            "Requirement already satisfied: python-dateutil>=2.5.3 in /usr/local/lib/python3.11/dist-packages (from pinecone<8.0.0,>=6.0.0->pinecone[asyncio]<8.0.0,>=6.0.0->langchain-pinecone) (2.9.0.post0)\n",
            "Requirement already satisfied: urllib3>=1.26.0 in /usr/local/lib/python3.11/dist-packages (from pinecone<8.0.0,>=6.0.0->pinecone[asyncio]<8.0.0,>=6.0.0->langchain-pinecone) (2.4.0)\n",
            "Collecting aiohttp-retry<3.0.0,>=2.9.1 (from pinecone[asyncio]<8.0.0,>=6.0.0->langchain-pinecone)\n",
            "  Downloading aiohttp_retry-2.9.1-py3-none-any.whl.metadata (8.8 kB)\n",
            "Requirement already satisfied: python-dotenv>=0.21.0 in /usr/local/lib/python3.11/dist-packages (from pydantic-settings<3.0.0,>=2.4.0->langchain-community) (1.1.1)\n",
            "Requirement already satisfied: typing-inspection>=0.4.0 in /usr/local/lib/python3.11/dist-packages (from pydantic-settings<3.0.0,>=2.4.0->langchain-community) (0.4.1)\n",
            "Requirement already satisfied: charset-normalizer<4,>=2 in /usr/local/lib/python3.11/dist-packages (from requests<3,>=2->langchain-community) (3.4.2)\n",
            "Requirement already satisfied: idna<4,>=2.5 in /usr/local/lib/python3.11/dist-packages (from requests<3,>=2->langchain-community) (3.10)\n",
            "Requirement already satisfied: greenlet>=1 in /usr/local/lib/python3.11/dist-packages (from SQLAlchemy<3,>=1.4->langchain-community) (3.2.3)\n",
            "Requirement already satisfied: regex>=2022.1.18 in /usr/local/lib/python3.11/dist-packages (from tiktoken<1,>=0.7->langchain-openai) (2024.11.6)\n",
            "Requirement already satisfied: httpcore==1.* in /usr/local/lib/python3.11/dist-packages (from httpx<1,>=0.25.0->langchain-tests<1.0.0,>=0.3.7->langchain-pinecone) (1.0.9)\n",
            "Requirement already satisfied: h11>=0.16 in /usr/local/lib/python3.11/dist-packages (from httpcore==1.*->httpx<1,>=0.25.0->langchain-tests<1.0.0,>=0.3.7->langchain-pinecone) (0.16.0)\n",
            "Requirement already satisfied: jsonpointer>=1.9 in /usr/local/lib/python3.11/dist-packages (from jsonpatch<2.0,>=1.33->langchain-core<1.0.0,>=0.3.34->langchain-pinecone) (3.0.0)\n",
            "Requirement already satisfied: annotated-types>=0.6.0 in /usr/local/lib/python3.11/dist-packages (from pydantic<3.0.0,>=2.7.4->langchain<1.0.0,>=0.3.26->langchain-community) (0.7.0)\n",
            "Requirement already satisfied: pydantic-core==2.33.2 in /usr/local/lib/python3.11/dist-packages (from pydantic<3.0.0,>=2.7.4->langchain<1.0.0,>=0.3.26->langchain-community) (2.33.2)\n",
            "Requirement already satisfied: iniconfig in /usr/local/lib/python3.11/dist-packages (from pytest<9,>=7->langchain-tests<1.0.0,>=0.3.7->langchain-pinecone) (2.1.0)\n",
            "Requirement already satisfied: pluggy<2,>=1.5 in /usr/local/lib/python3.11/dist-packages (from pytest<9,>=7->langchain-tests<1.0.0,>=0.3.7->langchain-pinecone) (1.6.0)\n",
            "Requirement already satisfied: six>=1.5 in /usr/local/lib/python3.11/dist-packages (from python-dateutil>=2.5.3->pinecone<8.0.0,>=6.0.0->pinecone[asyncio]<8.0.0,>=6.0.0->langchain-pinecone) (1.17.0)\n",
            "Collecting mypy-extensions>=0.3.0 (from typing-inspect<1,>=0.4.0->dataclasses-json<0.7,>=0.5.7->langchain-community)\n",
            "  Downloading mypy_extensions-1.1.0-py3-none-any.whl.metadata (1.1 kB)\n",
            "Requirement already satisfied: wrapt in /usr/local/lib/python3.11/dist-packages (from vcrpy>=7.0->langchain-tests<1.0.0,>=0.3.7->langchain-pinecone) (1.17.2)\n",
            "Requirement already satisfied: py-cpuinfo in /usr/local/lib/python3.11/dist-packages (from pytest-benchmark->langchain-tests<1.0.0,>=0.3.7->langchain-pinecone) (9.0.0)\n",
            "Requirement already satisfied: cffi>=1.17.1 in /usr/local/lib/python3.11/dist-packages (from pytest-codspeed->langchain-tests<1.0.0,>=0.3.7->langchain-pinecone) (1.17.1)\n",
            "Requirement already satisfied: rich>=13.8.1 in /usr/local/lib/python3.11/dist-packages (from pytest-codspeed->langchain-tests<1.0.0,>=0.3.7->langchain-pinecone) (13.9.4)\n",
            "Requirement already satisfied: pycparser in /usr/local/lib/python3.11/dist-packages (from cffi>=1.17.1->pytest-codspeed->langchain-tests<1.0.0,>=0.3.7->langchain-pinecone) (2.22)\n",
            "Requirement already satisfied: markdown-it-py>=2.2.0 in /usr/local/lib/python3.11/dist-packages (from rich>=13.8.1->pytest-codspeed->langchain-tests<1.0.0,>=0.3.7->langchain-pinecone) (3.0.0)\n",
            "Requirement already satisfied: pygments<3.0.0,>=2.13.0 in /usr/local/lib/python3.11/dist-packages (from rich>=13.8.1->pytest-codspeed->langchain-tests<1.0.0,>=0.3.7->langchain-pinecone) (2.19.2)\n",
            "Requirement already satisfied: mdurl~=0.1 in /usr/local/lib/python3.11/dist-packages (from markdown-it-py>=2.2.0->rich>=13.8.1->pytest-codspeed->langchain-tests<1.0.0,>=0.3.7->langchain-pinecone) (0.1.2)\n",
            "Downloading langchain_pinecone-0.2.8-py3-none-any.whl (22 kB)\n",
            "Downloading langchain_openai-0.3.26-py3-none-any.whl (70 kB)\n",
            "\u001b[2K   \u001b[90m━━━━━━━━━━━━━━━━━━━━━━━━━━━━━━━━━━━━━━━━\u001b[0m \u001b[32m70.1/70.1 kB\u001b[0m \u001b[31m5.8 MB/s\u001b[0m eta \u001b[36m0:00:00\u001b[0m\n",
            "\u001b[?25hDownloading langchain_community-0.3.26-py3-none-any.whl (2.5 MB)\n",
            "\u001b[2K   \u001b[90m━━━━━━━━━━━━━━━━━━━━━━━━━━━━━━━━━━━━━━━━\u001b[0m \u001b[32m2.5/2.5 MB\u001b[0m \u001b[31m53.9 MB/s\u001b[0m eta \u001b[36m0:00:00\u001b[0m\n",
            "\u001b[?25hDownloading dataclasses_json-0.6.7-py3-none-any.whl (28 kB)\n",
            "Downloading httpx_sse-0.4.1-py3-none-any.whl (8.1 kB)\n",
            "Downloading langchain_tests-0.3.20-py3-none-any.whl (46 kB)\n",
            "\u001b[2K   \u001b[90m━━━━━━━━━━━━━━━━━━━━━━━━━━━━━━━━━━━━━━━━\u001b[0m \u001b[32m46.3/46.3 kB\u001b[0m \u001b[31m3.3 MB/s\u001b[0m eta \u001b[36m0:00:00\u001b[0m\n",
            "\u001b[?25hDownloading pinecone-7.2.0-py3-none-any.whl (524 kB)\n",
            "\u001b[2K   \u001b[90m━━━━━━━━━━━━━━━━━━━━━━━━━━━━━━━━━━━━━━━━\u001b[0m \u001b[32m524.3/524.3 kB\u001b[0m \u001b[31m31.5 MB/s\u001b[0m eta \u001b[36m0:00:00\u001b[0m\n",
            "\u001b[?25hDownloading pydantic_settings-2.10.1-py3-none-any.whl (45 kB)\n",
            "\u001b[2K   \u001b[90m━━━━━━━━━━━━━━━━━━━━━━━━━━━━━━━━━━━━━━━━\u001b[0m \u001b[32m45.2/45.2 kB\u001b[0m \u001b[31m3.4 MB/s\u001b[0m eta \u001b[36m0:00:00\u001b[0m\n",
            "\u001b[?25hDownloading aiohttp_retry-2.9.1-py3-none-any.whl (10.0 kB)\n",
            "Downloading marshmallow-3.26.1-py3-none-any.whl (50 kB)\n",
            "\u001b[2K   \u001b[90m━━━━━━━━━━━━━━━━━━━━━━━━━━━━━━━━━━━━━━━━\u001b[0m \u001b[32m50.9/50.9 kB\u001b[0m \u001b[31m3.7 MB/s\u001b[0m eta \u001b[36m0:00:00\u001b[0m\n",
            "\u001b[?25hDownloading pinecone_plugin_assistant-1.7.0-py3-none-any.whl (239 kB)\n",
            "\u001b[2K   \u001b[90m━━━━━━━━━━━━━━━━━━━━━━━━━━━━━━━━━━━━━━━━\u001b[0m \u001b[32m240.0/240.0 kB\u001b[0m \u001b[31m15.5 MB/s\u001b[0m eta \u001b[36m0:00:00\u001b[0m\n",
            "\u001b[?25hDownloading pinecone_plugin_interface-0.0.7-py3-none-any.whl (6.2 kB)\n",
            "Downloading pytest_asyncio-0.26.0-py3-none-any.whl (19 kB)\n",
            "Downloading pytest_socket-0.7.0-py3-none-any.whl (6.8 kB)\n",
            "Downloading syrupy-4.9.1-py3-none-any.whl (52 kB)\n",
            "\u001b[2K   \u001b[90m━━━━━━━━━━━━━━━━━━━━━━━━━━━━━━━━━━━━━━━━\u001b[0m \u001b[32m52.2/52.2 kB\u001b[0m \u001b[31m3.8 MB/s\u001b[0m eta \u001b[36m0:00:00\u001b[0m\n",
            "\u001b[?25hDownloading typing_inspect-0.9.0-py3-none-any.whl (8.8 kB)\n",
            "Downloading vcrpy-7.0.0-py2.py3-none-any.whl (42 kB)\n",
            "\u001b[2K   \u001b[90m━━━━━━━━━━━━━━━━━━━━━━━━━━━━━━━━━━━━━━━━\u001b[0m \u001b[32m42.3/42.3 kB\u001b[0m \u001b[31m3.1 MB/s\u001b[0m eta \u001b[36m0:00:00\u001b[0m\n",
            "\u001b[?25hDownloading pytest_benchmark-5.1.0-py3-none-any.whl (44 kB)\n",
            "\u001b[2K   \u001b[90m━━━━━━━━━━━━━━━━━━━━━━━━━━━━━━━━━━━━━━━━\u001b[0m \u001b[32m44.3/44.3 kB\u001b[0m \u001b[31m2.9 MB/s\u001b[0m eta \u001b[36m0:00:00\u001b[0m\n",
            "\u001b[?25hDownloading pytest_codspeed-3.2.0-cp311-cp311-manylinux_2_5_x86_64.manylinux1_x86_64.manylinux_2_28_x86_64.whl (25 kB)\n",
            "Downloading pytest_recording-0.13.4-py3-none-any.whl (13 kB)\n",
            "Downloading mypy_extensions-1.1.0-py3-none-any.whl (5.0 kB)\n",
            "Installing collected packages: pinecone-plugin-interface, mypy-extensions, marshmallow, httpx-sse, vcrpy, typing-inspect, syrupy, pytest-socket, pytest-benchmark, pytest-asyncio, pinecone-plugin-assistant, pytest-recording, pytest-codspeed, pydantic-settings, pinecone, dataclasses-json, aiohttp-retry, langchain-tests, langchain-openai, langchain-pinecone, langchain-community\n",
            "Successfully installed aiohttp-retry-2.9.1 dataclasses-json-0.6.7 httpx-sse-0.4.1 langchain-community-0.3.26 langchain-openai-0.3.26 langchain-pinecone-0.2.8 langchain-tests-0.3.20 marshmallow-3.26.1 mypy-extensions-1.1.0 pinecone-7.2.0 pinecone-plugin-assistant-1.7.0 pinecone-plugin-interface-0.0.7 pydantic-settings-2.10.1 pytest-asyncio-0.26.0 pytest-benchmark-5.1.0 pytest-codspeed-3.2.0 pytest-recording-0.13.4 pytest-socket-0.7.0 syrupy-4.9.1 typing-inspect-0.9.0 vcrpy-7.0.0\n",
            "Collecting langgraph\n",
            "  Downloading langgraph-0.5.0-py3-none-any.whl.metadata (6.7 kB)\n",
            "Requirement already satisfied: langchain-core>=0.1 in /usr/local/lib/python3.11/dist-packages (from langgraph) (0.3.66)\n",
            "Collecting langgraph-checkpoint>=2.1.0 (from langgraph)\n",
            "  Downloading langgraph_checkpoint-2.1.0-py3-none-any.whl.metadata (4.2 kB)\n",
            "Collecting langgraph-prebuilt>=0.5.0 (from langgraph)\n",
            "  Downloading langgraph_prebuilt-0.5.0-py3-none-any.whl.metadata (4.5 kB)\n",
            "Collecting langgraph-sdk>=0.1.42 (from langgraph)\n",
            "  Downloading langgraph_sdk-0.1.72-py3-none-any.whl.metadata (1.5 kB)\n",
            "Requirement already satisfied: pydantic>=2.7.4 in /usr/local/lib/python3.11/dist-packages (from langgraph) (2.11.7)\n",
            "Requirement already satisfied: xxhash>=3.5.0 in /usr/local/lib/python3.11/dist-packages (from langgraph) (3.5.0)\n",
            "Requirement already satisfied: langsmith>=0.3.45 in /usr/local/lib/python3.11/dist-packages (from langchain-core>=0.1->langgraph) (0.4.1)\n",
            "Requirement already satisfied: tenacity!=8.4.0,<10.0.0,>=8.1.0 in /usr/local/lib/python3.11/dist-packages (from langchain-core>=0.1->langgraph) (8.5.0)\n",
            "Requirement already satisfied: jsonpatch<2.0,>=1.33 in /usr/local/lib/python3.11/dist-packages (from langchain-core>=0.1->langgraph) (1.33)\n",
            "Requirement already satisfied: PyYAML>=5.3 in /usr/local/lib/python3.11/dist-packages (from langchain-core>=0.1->langgraph) (6.0.2)\n",
            "Requirement already satisfied: packaging<25,>=23.2 in /usr/local/lib/python3.11/dist-packages (from langchain-core>=0.1->langgraph) (24.2)\n",
            "Requirement already satisfied: typing-extensions>=4.7 in /usr/local/lib/python3.11/dist-packages (from langchain-core>=0.1->langgraph) (4.14.0)\n",
            "Collecting ormsgpack>=1.10.0 (from langgraph-checkpoint>=2.1.0->langgraph)\n",
            "  Downloading ormsgpack-1.10.0-cp311-cp311-manylinux_2_17_x86_64.manylinux2014_x86_64.whl.metadata (43 kB)\n",
            "\u001b[2K     \u001b[90m━━━━━━━━━━━━━━━━━━━━━━━━━━━━━━━━━━━━━━━━\u001b[0m \u001b[32m43.7/43.7 kB\u001b[0m \u001b[31m3.3 MB/s\u001b[0m eta \u001b[36m0:00:00\u001b[0m\n",
            "\u001b[?25hRequirement already satisfied: httpx>=0.25.2 in /usr/local/lib/python3.11/dist-packages (from langgraph-sdk>=0.1.42->langgraph) (0.28.1)\n",
            "Requirement already satisfied: orjson>=3.10.1 in /usr/local/lib/python3.11/dist-packages (from langgraph-sdk>=0.1.42->langgraph) (3.10.18)\n",
            "Requirement already satisfied: annotated-types>=0.6.0 in /usr/local/lib/python3.11/dist-packages (from pydantic>=2.7.4->langgraph) (0.7.0)\n",
            "Requirement already satisfied: pydantic-core==2.33.2 in /usr/local/lib/python3.11/dist-packages (from pydantic>=2.7.4->langgraph) (2.33.2)\n",
            "Requirement already satisfied: typing-inspection>=0.4.0 in /usr/local/lib/python3.11/dist-packages (from pydantic>=2.7.4->langgraph) (0.4.1)\n",
            "Requirement already satisfied: anyio in /usr/local/lib/python3.11/dist-packages (from httpx>=0.25.2->langgraph-sdk>=0.1.42->langgraph) (4.9.0)\n",
            "Requirement already satisfied: certifi in /usr/local/lib/python3.11/dist-packages (from httpx>=0.25.2->langgraph-sdk>=0.1.42->langgraph) (2025.6.15)\n",
            "Requirement already satisfied: httpcore==1.* in /usr/local/lib/python3.11/dist-packages (from httpx>=0.25.2->langgraph-sdk>=0.1.42->langgraph) (1.0.9)\n",
            "Requirement already satisfied: idna in /usr/local/lib/python3.11/dist-packages (from httpx>=0.25.2->langgraph-sdk>=0.1.42->langgraph) (3.10)\n",
            "Requirement already satisfied: h11>=0.16 in /usr/local/lib/python3.11/dist-packages (from httpcore==1.*->httpx>=0.25.2->langgraph-sdk>=0.1.42->langgraph) (0.16.0)\n",
            "Requirement already satisfied: jsonpointer>=1.9 in /usr/local/lib/python3.11/dist-packages (from jsonpatch<2.0,>=1.33->langchain-core>=0.1->langgraph) (3.0.0)\n",
            "Requirement already satisfied: requests<3,>=2 in /usr/local/lib/python3.11/dist-packages (from langsmith>=0.3.45->langchain-core>=0.1->langgraph) (2.32.3)\n",
            "Requirement already satisfied: requests-toolbelt<2.0.0,>=1.0.0 in /usr/local/lib/python3.11/dist-packages (from langsmith>=0.3.45->langchain-core>=0.1->langgraph) (1.0.0)\n",
            "Requirement already satisfied: zstandard<0.24.0,>=0.23.0 in /usr/local/lib/python3.11/dist-packages (from langsmith>=0.3.45->langchain-core>=0.1->langgraph) (0.23.0)\n",
            "Requirement already satisfied: charset-normalizer<4,>=2 in /usr/local/lib/python3.11/dist-packages (from requests<3,>=2->langsmith>=0.3.45->langchain-core>=0.1->langgraph) (3.4.2)\n",
            "Requirement already satisfied: urllib3<3,>=1.21.1 in /usr/local/lib/python3.11/dist-packages (from requests<3,>=2->langsmith>=0.3.45->langchain-core>=0.1->langgraph) (2.4.0)\n",
            "Requirement already satisfied: sniffio>=1.1 in /usr/local/lib/python3.11/dist-packages (from anyio->httpx>=0.25.2->langgraph-sdk>=0.1.42->langgraph) (1.3.1)\n",
            "Downloading langgraph-0.5.0-py3-none-any.whl (143 kB)\n",
            "\u001b[2K   \u001b[90m━━━━━━━━━━━━━━━━━━━━━━━━━━━━━━━━━━━━━━━━\u001b[0m \u001b[32m143.7/143.7 kB\u001b[0m \u001b[31m7.6 MB/s\u001b[0m eta \u001b[36m0:00:00\u001b[0m\n",
            "\u001b[?25hDownloading langgraph_checkpoint-2.1.0-py3-none-any.whl (43 kB)\n",
            "\u001b[2K   \u001b[90m━━━━━━━━━━━━━━━━━━━━━━━━━━━━━━━━━━━━━━━━\u001b[0m \u001b[32m43.8/43.8 kB\u001b[0m \u001b[31m3.3 MB/s\u001b[0m eta \u001b[36m0:00:00\u001b[0m\n",
            "\u001b[?25hDownloading langgraph_prebuilt-0.5.0-py3-none-any.whl (23 kB)\n",
            "Downloading langgraph_sdk-0.1.72-py3-none-any.whl (50 kB)\n",
            "\u001b[2K   \u001b[90m━━━━━━━━━━━━━━━━━━━━━━━━━━━━━━━━━━━━━━━━\u001b[0m \u001b[32m50.1/50.1 kB\u001b[0m \u001b[31m3.8 MB/s\u001b[0m eta \u001b[36m0:00:00\u001b[0m\n",
            "\u001b[?25hDownloading ormsgpack-1.10.0-cp311-cp311-manylinux_2_17_x86_64.manylinux2014_x86_64.whl (216 kB)\n",
            "\u001b[2K   \u001b[90m━━━━━━━━━━━━━━━━━━━━━━━━━━━━━━━━━━━━━━━━\u001b[0m \u001b[32m216.5/216.5 kB\u001b[0m \u001b[31m17.4 MB/s\u001b[0m eta \u001b[36m0:00:00\u001b[0m\n",
            "\u001b[?25hInstalling collected packages: ormsgpack, langgraph-sdk, langgraph-checkpoint, langgraph-prebuilt, langgraph\n",
            "Successfully installed langgraph-0.5.0 langgraph-checkpoint-2.1.0 langgraph-prebuilt-0.5.0 langgraph-sdk-0.1.72 ormsgpack-1.10.0\n",
            "Collecting langgraph_supervisor\n",
            "  Downloading langgraph_supervisor-0.0.27-py3-none-any.whl.metadata (13 kB)\n",
            "Requirement already satisfied: langgraph>=0.3.5 in /usr/local/lib/python3.11/dist-packages (from langgraph_supervisor) (0.5.0)\n",
            "Requirement already satisfied: langgraph-prebuilt>=0.1.7 in /usr/local/lib/python3.11/dist-packages (from langgraph_supervisor) (0.5.0)\n",
            "Requirement already satisfied: langchain-core>=0.3.40 in /usr/local/lib/python3.11/dist-packages (from langgraph_supervisor) (0.3.66)\n",
            "Requirement already satisfied: langsmith>=0.3.45 in /usr/local/lib/python3.11/dist-packages (from langchain-core>=0.3.40->langgraph_supervisor) (0.4.1)\n",
            "Requirement already satisfied: tenacity!=8.4.0,<10.0.0,>=8.1.0 in /usr/local/lib/python3.11/dist-packages (from langchain-core>=0.3.40->langgraph_supervisor) (8.5.0)\n",
            "Requirement already satisfied: jsonpatch<2.0,>=1.33 in /usr/local/lib/python3.11/dist-packages (from langchain-core>=0.3.40->langgraph_supervisor) (1.33)\n",
            "Requirement already satisfied: PyYAML>=5.3 in /usr/local/lib/python3.11/dist-packages (from langchain-core>=0.3.40->langgraph_supervisor) (6.0.2)\n",
            "Requirement already satisfied: packaging<25,>=23.2 in /usr/local/lib/python3.11/dist-packages (from langchain-core>=0.3.40->langgraph_supervisor) (24.2)\n",
            "Requirement already satisfied: typing-extensions>=4.7 in /usr/local/lib/python3.11/dist-packages (from langchain-core>=0.3.40->langgraph_supervisor) (4.14.0)\n",
            "Requirement already satisfied: pydantic>=2.7.4 in /usr/local/lib/python3.11/dist-packages (from langchain-core>=0.3.40->langgraph_supervisor) (2.11.7)\n",
            "Requirement already satisfied: langgraph-checkpoint>=2.1.0 in /usr/local/lib/python3.11/dist-packages (from langgraph>=0.3.5->langgraph_supervisor) (2.1.0)\n",
            "Requirement already satisfied: langgraph-sdk>=0.1.42 in /usr/local/lib/python3.11/dist-packages (from langgraph>=0.3.5->langgraph_supervisor) (0.1.72)\n",
            "Requirement already satisfied: xxhash>=3.5.0 in /usr/local/lib/python3.11/dist-packages (from langgraph>=0.3.5->langgraph_supervisor) (3.5.0)\n",
            "Requirement already satisfied: jsonpointer>=1.9 in /usr/local/lib/python3.11/dist-packages (from jsonpatch<2.0,>=1.33->langchain-core>=0.3.40->langgraph_supervisor) (3.0.0)\n",
            "Requirement already satisfied: ormsgpack>=1.10.0 in /usr/local/lib/python3.11/dist-packages (from langgraph-checkpoint>=2.1.0->langgraph>=0.3.5->langgraph_supervisor) (1.10.0)\n",
            "Requirement already satisfied: httpx>=0.25.2 in /usr/local/lib/python3.11/dist-packages (from langgraph-sdk>=0.1.42->langgraph>=0.3.5->langgraph_supervisor) (0.28.1)\n",
            "Requirement already satisfied: orjson>=3.10.1 in /usr/local/lib/python3.11/dist-packages (from langgraph-sdk>=0.1.42->langgraph>=0.3.5->langgraph_supervisor) (3.10.18)\n",
            "Requirement already satisfied: requests<3,>=2 in /usr/local/lib/python3.11/dist-packages (from langsmith>=0.3.45->langchain-core>=0.3.40->langgraph_supervisor) (2.32.3)\n",
            "Requirement already satisfied: requests-toolbelt<2.0.0,>=1.0.0 in /usr/local/lib/python3.11/dist-packages (from langsmith>=0.3.45->langchain-core>=0.3.40->langgraph_supervisor) (1.0.0)\n",
            "Requirement already satisfied: zstandard<0.24.0,>=0.23.0 in /usr/local/lib/python3.11/dist-packages (from langsmith>=0.3.45->langchain-core>=0.3.40->langgraph_supervisor) (0.23.0)\n",
            "Requirement already satisfied: annotated-types>=0.6.0 in /usr/local/lib/python3.11/dist-packages (from pydantic>=2.7.4->langchain-core>=0.3.40->langgraph_supervisor) (0.7.0)\n",
            "Requirement already satisfied: pydantic-core==2.33.2 in /usr/local/lib/python3.11/dist-packages (from pydantic>=2.7.4->langchain-core>=0.3.40->langgraph_supervisor) (2.33.2)\n",
            "Requirement already satisfied: typing-inspection>=0.4.0 in /usr/local/lib/python3.11/dist-packages (from pydantic>=2.7.4->langchain-core>=0.3.40->langgraph_supervisor) (0.4.1)\n",
            "Requirement already satisfied: anyio in /usr/local/lib/python3.11/dist-packages (from httpx>=0.25.2->langgraph-sdk>=0.1.42->langgraph>=0.3.5->langgraph_supervisor) (4.9.0)\n",
            "Requirement already satisfied: certifi in /usr/local/lib/python3.11/dist-packages (from httpx>=0.25.2->langgraph-sdk>=0.1.42->langgraph>=0.3.5->langgraph_supervisor) (2025.6.15)\n",
            "Requirement already satisfied: httpcore==1.* in /usr/local/lib/python3.11/dist-packages (from httpx>=0.25.2->langgraph-sdk>=0.1.42->langgraph>=0.3.5->langgraph_supervisor) (1.0.9)\n",
            "Requirement already satisfied: idna in /usr/local/lib/python3.11/dist-packages (from httpx>=0.25.2->langgraph-sdk>=0.1.42->langgraph>=0.3.5->langgraph_supervisor) (3.10)\n",
            "Requirement already satisfied: h11>=0.16 in /usr/local/lib/python3.11/dist-packages (from httpcore==1.*->httpx>=0.25.2->langgraph-sdk>=0.1.42->langgraph>=0.3.5->langgraph_supervisor) (0.16.0)\n",
            "Requirement already satisfied: charset-normalizer<4,>=2 in /usr/local/lib/python3.11/dist-packages (from requests<3,>=2->langsmith>=0.3.45->langchain-core>=0.3.40->langgraph_supervisor) (3.4.2)\n",
            "Requirement already satisfied: urllib3<3,>=1.21.1 in /usr/local/lib/python3.11/dist-packages (from requests<3,>=2->langsmith>=0.3.45->langchain-core>=0.3.40->langgraph_supervisor) (2.4.0)\n",
            "Requirement already satisfied: sniffio>=1.1 in /usr/local/lib/python3.11/dist-packages (from anyio->httpx>=0.25.2->langgraph-sdk>=0.1.42->langgraph>=0.3.5->langgraph_supervisor) (1.3.1)\n",
            "Downloading langgraph_supervisor-0.0.27-py3-none-any.whl (15 kB)\n",
            "Installing collected packages: langgraph_supervisor\n",
            "Successfully installed langgraph_supervisor-0.0.27\n"
          ]
        }
      ],
      "source": [
        "%pip install python-dotenv\n",
        "%pip install langchain-pinecone langchain-openai langchain-community\n",
        "%pip install langgraph\n",
        "%pip install langgraph_supervisor"
      ]
    },
    {
      "cell_type": "code",
      "source": [
        "import getpass\n",
        "import os\n",
        "\n",
        "\n",
        "def _set_env(key: str):\n",
        "    if key not in os.environ:\n",
        "        os.environ[key] = getpass.getpass(f\"{key}:\")\n",
        "\n",
        "\n",
        "_set_env(\"OPENAI_API_KEY\")\n",
        "_set_env(\"PINECONE_API_KEY\")\n",
        "_set_env(\"PINECONE_ENVIRONMENT\")"
      ],
      "metadata": {
        "id": "ORDpRKuT7g6w",
        "colab": {
          "base_uri": "https://localhost:8080/"
        },
        "outputId": "c67d6436-4161-4af1-a011-d7f0e2ba4268"
      },
      "execution_count": null,
      "outputs": [
        {
          "name": "stdout",
          "output_type": "stream",
          "text": [
            "OPENAI_API_KEY:··········\n",
            "PINECONE_API_KEY:··········\n",
            "PINECONE_ENVIRONMENT:··········\n"
          ]
        }
      ]
    },
    {
      "cell_type": "code",
      "source": [
        "from dotenv import load_dotenv\n",
        "\n",
        "load_dotenv()\n",
        "\n",
        "from langchain.text_splitter import RecursiveCharacterTextSplitter\n",
        "from langchain_community.document_loaders import ReadTheDocsLoader\n",
        "from langchain_openai import OpenAIEmbeddings\n",
        "from langchain_pinecone import PineconeVectorStore\n",
        "\n",
        "embeddings = OpenAIEmbeddings(model=\"text-embedding-3-small\")\n",
        "loader = ReadTheDocsLoader(\"https://www.edubull.com/Content/eRepository/SubjectContent/Notes/3634.pdf\")\n",
        "raw_documents = loader.load()\n",
        "text_splitter = RecursiveCharacterTextSplitter(chunk_size=600, chunk_overlap=50)\n",
        "documents = text_splitter.split_documents(raw_documents)\n",
        "for doc in documents:\n",
        "    new_url = doc.metadata[\"source\"]\n",
        "    doc.metadata.update({\"source\": new_url})\n",
        "retriever = PineconeVectorStore.from_documents(\n",
        "    documents, embeddings, index_name=\"project2\"\n",
        ").as_retriever()\n"
      ],
      "metadata": {
        "id": "1OJ5mnSU7lge"
      },
      "execution_count": null,
      "outputs": []
    },
    {
      "cell_type": "code",
      "source": [
        "from langchain.tools.retriever import create_retriever_tool\n",
        "retriever_tool = create_retriever_tool(\n",
        "    retriever,\n",
        "    name=\"search_docs\",\n",
        "    description=\"Search the knowledge base.\"\n",
        ")"
      ],
      "metadata": {
        "id": "VGJ6VmNV7oNe"
      },
      "execution_count": null,
      "outputs": []
    },
    {
      "cell_type": "code",
      "source": [
        "from langgraph.graph import MessagesState\n",
        "from langchain_openai import ChatOpenAI\n",
        "\n",
        "response_model = ChatOpenAI(model=\"gpt-4o\", temperature=0)\n",
        "\n",
        "\n",
        "def generate_query_or_respond(state: MessagesState):\n",
        "    \"\"\"Call the model to generate a response based on the current state. Given\n",
        "    the question, it will decide to retrieve using the retriever tool, or simply respond to the user.\n",
        "    \"\"\"\n",
        "    response = (\n",
        "        response_model\n",
        "        .bind_tools([retriever_tool]).invoke(state[\"messages\"])\n",
        "    )\n",
        "    return {\"messages\": [response]}"
      ],
      "metadata": {
        "id": "iZnqPvoh7p96"
      },
      "execution_count": null,
      "outputs": []
    },
    {
      "cell_type": "code",
      "source": [
        "input = {\"messages\": [{\"role\": \"user\", \"content\": \"hello!\"}]}\n",
        "generate_query_or_respond(input)[\"messages\"][-1].pretty_print()"
      ],
      "metadata": {
        "id": "qxuMQHPz7sVT",
        "colab": {
          "base_uri": "https://localhost:8080/"
        },
        "outputId": "5692e3bc-7441-4ae4-fe66-65d99ea72e38"
      },
      "execution_count": null,
      "outputs": [
        {
          "output_type": "stream",
          "name": "stdout",
          "text": [
            "==================================\u001b[1m Ai Message \u001b[0m==================================\n",
            "\n",
            "Hello! How can I assist you today?\n"
          ]
        }
      ]
    },
    {
      "cell_type": "code",
      "source": [
        "input = {\n",
        "    \"messages\": [\n",
        "        {\n",
        "            \"role\": \"user\",\n",
        "            \"content\": \"How was cricket spread in India?\",\n",
        "        }\n",
        "    ]\n",
        "}\n",
        "generate_query_or_respond(input)[\"messages\"][-1].pretty_print()"
      ],
      "metadata": {
        "id": "wz1AtIbI7s49",
        "colab": {
          "base_uri": "https://localhost:8080/"
        },
        "outputId": "b5c191c1-dc66-4862-e12c-359b05c90427"
      },
      "execution_count": null,
      "outputs": [
        {
          "output_type": "stream",
          "name": "stdout",
          "text": [
            "==================================\u001b[1m Ai Message \u001b[0m==================================\n",
            "Tool Calls:\n",
            "  search_docs (call_hvavEPiTFuZTQ6MutGTHFOUR)\n",
            " Call ID: call_hvavEPiTFuZTQ6MutGTHFOUR\n",
            "  Args:\n",
            "    query: spread of cricket in India\n"
          ]
        }
      ]
    },
    {
      "cell_type": "code",
      "source": [
        "from pydantic import BaseModel, Field\n",
        "from typing import Literal\n",
        "from langchain_openai import ChatOpenAI\n",
        "\n",
        "GRADE_PROMPT = (\n",
        "    \"You are a grader assessing relevance of a retrieved document to a user question. \\n \"\n",
        "    \"Here is the retrieved document: \\n\\n {context} \\n\\n\"\n",
        "    \"Here is the user question: {question} \\n\"\n",
        "    \"Instructions:\\n\"\n",
        "    \"- Return 'yes' if the document clearly answers the question.\\n\"\n",
        "    \"- If the document touches the topic or answers part of the question, return 'partially relevant'.\\n\"\n",
        "    \"- If the document does not answer the question at all, return 'no'.\\n\"\n",
        "    \"Return only one of these values exactly: 'yes', 'partially relevant', or 'no'. Do not include explanations.\"\n",
        "\n",
        ")\n",
        "class GradeDocuments(BaseModel):\n",
        "    \"\"\"Grade documents using a binary score for relevance check.\"\"\"\n",
        "    binary_score: Literal[\"yes\", \"partially relevant\", \"no\"] = Field(\n",
        "        description=\"Relevance score: 'yes' if clearly relevant, 'partially relevant' if loosely related, 'no' if unrelated\"\n",
        "    )\n",
        "grader_model = ChatOpenAI(model=\"gpt-4o\", temperature=0)\n",
        "\n",
        "def grade_documents(\n",
        "    state: MessagesState,\n",
        ") -> Literal[\"generate_answer\", \"rewrite_question\",\"ignore_question\"]:\n",
        "    \"\"\"Determine whether the retrieved documents are relevant to the question.\"\"\"\n",
        "    question = state[\"messages\"][0].content\n",
        "    context = state[\"messages\"][-1].content\n",
        "\n",
        "    prompt = GRADE_PROMPT.format(question=question, context=context)\n",
        "    response = (\n",
        "        grader_model\n",
        "        .with_structured_output(GradeDocuments).invoke(\n",
        "            [{\"role\": \"user\", \"content\": prompt}]\n",
        "        )\n",
        "    )\n",
        "    score = response.binary_score\n",
        "\n",
        "    if score == \"yes\":\n",
        "        return \"should_generate_answer\"\n",
        "    elif score == \"partially relevant\":\n",
        "        return \"should_rewrite_question\"\n",
        "    else:\n",
        "      return \"should_ignore_question\""
      ],
      "metadata": {
        "id": "LMbN5jRP7x0C"
      },
      "execution_count": null,
      "outputs": []
    },
    {
      "cell_type": "code",
      "source": [
        "from langchain_core.tools import tool\n",
        "from langgraph.prebuilt import create_react_agent"
      ],
      "metadata": {
        "id": "2jSApgz770dp"
      },
      "execution_count": null,
      "outputs": []
    },
    {
      "cell_type": "code",
      "source": [
        "from langchain_core.messages import BaseMessage\n",
        "from typing import List\n",
        "def ignore_question(state: MessagesState):\n",
        "    \"\"\"Ignore user question, if the document is not relevant at all.\"\"\"\n",
        "    question = messages[0].content\n",
        "    context = messages[-1].content\n",
        "    prompt = IGNORE_PROMPT.format(question=question, context=context)\n",
        "    response = response_model.invoke([{\"role\": \"user\", \"content\": prompt}])\n",
        "    return {\"messages\": [response]}\n",
        "ignore_question_agent = create_react_agent(\n",
        "    model=\"openai:gpt-4.1\",\n",
        "    tools=[ignore_question],\n",
        "    prompt=(\n",
        "        \"You are a ignore_question agent.\\n\\n\"\n",
        "        \"Here is the initial question: {question}\\n\\n\"\n",
        "        \"Here is the document: {context}\\n\\n\"\n",
        "        \"If the document is not at all related to the question, respond with:\\n\"\n",
        "        \"'The question is not related to the document provided.'\\n\"\n",
        "        \"INSTRUCTIONS:\\n\"\n",
        "        \"- After you're done with your tasks, respond to the supervisor directly\\n\"\n",
        "        \"- Respond ONLY with the results of your work, do NOT include ANY other text.\"\n",
        "    ),\n",
        "    name=\"ignore_question_agent\",\n",
        ")"
      ],
      "metadata": {
        "id": "fIsPsIki6oqP"
      },
      "execution_count": null,
      "outputs": []
    },
    {
      "cell_type": "code",
      "source": [
        "from langchain_core.messages import BaseMessage\n",
        "from typing import List\n",
        "\n",
        "REWRITE_PROMPT = (\n",
        "    \"Look at the input and try to reason about the underlying semantic intent / meaning.\\n\"\n",
        "    \"Here is the initial question:\"\n",
        "    \"\\n ------- \\n\"\n",
        "    \"{question}\"\n",
        "    \"\\n ------- \\n\"\n",
        "    \"Formulate an improved question:\"\n",
        ")\n",
        "\n",
        "def rewrite_question(state: MessagesState):\n",
        "    \"\"\"Rewrite the original user question.\"\"\"\n",
        "    question = messages[0].content\n",
        "    context = messages[-1].content\n",
        "    prompt = REWRITE_PROMPT.format(question=question, context=context)\n",
        "    response = response_model.invoke([{\"role\": \"user\", \"content\": prompt}])\n",
        "    return {\"messages\": [response]}\n",
        "rewrite_question_agent = create_react_agent(\n",
        "    model=\"openai:gpt-4.1\",\n",
        "    tools=[rewrite_question],\n",
        "    prompt=(\n",
        "        \"You are a rewrite_question agent.\\n\\n\"\n",
        "        \"Look at the input and try to reason about the underlying semantic intent / meaning.\\n\"\n",
        "        \"Here is the initial question: {question}\\n\"\n",
        "        \"Here is the document: {context}\\n\"\n",
        "        \"INSTRUCTIONS:\\n\"\n",
        "        \"- After you're done with your tasks, respond to the supervisor directly\\n\"\n",
        "        \"- Respond ONLY with the results of your work, do NOT include ANY other text.\"\n",
        "    ),\n",
        "    name=\"rewrite_question_agent\",\n",
        ")"
      ],
      "metadata": {
        "id": "KlPtiQ3z64yN"
      },
      "execution_count": null,
      "outputs": []
    },
    {
      "cell_type": "code",
      "source": [
        "def generate_answer(state: MessagesState):\n",
        "    \"\"\"Generate an answer.\"\"\"\n",
        "    question = state[\"messages\"][0].content\n",
        "    context = state[\"messages\"][-1].content\n",
        "    prompt = GENERATE_PROMPT.format(question=question, context=context)\n",
        "    response = response_model.invoke([{\"role\": \"user\", \"content\": prompt}])\n",
        "    return {\"messages\": [response]}\n",
        "generate_answer_agent = create_react_agent(\n",
        "    model=\"openai:gpt-4.1\",\n",
        "    tools=[rewrite_question],\n",
        "    prompt=(\n",
        "        \"You are a generate_answer agent.\\n\\n\"\n",
        "        \"You are an assistant for question-answering tasks. \"\n",
        "        \"Use the following pieces of retrieved context to answer the question. \"\n",
        "        \"Use three sentences maximum and keep the answer concise.\\n\"\n",
        "        \"Here is the initial question: {question}\\n\"\n",
        "        \"Here is the document: {context}\\n\"\n",
        "        \"INSTRUCTIONS:\\n\"\n",
        "        \"- After you're done with your tasks, respond to the supervisor directly\\n\"\n",
        "        \"- Respond ONLY with the results of your work, do NOT include ANY other text.\"\n",
        "    ),\n",
        "    name=\"generate_answer_agent\",\n",
        ")"
      ],
      "metadata": {
        "id": "KnTuskq2-vmO"
      },
      "execution_count": null,
      "outputs": []
    },
    {
      "cell_type": "code",
      "source": [
        "from langgraph_supervisor import create_supervisor\n",
        "from langchain.chat_models import init_chat_model\n",
        "from langchain_openai import ChatOpenAI\n",
        "\n",
        "response_model = ChatOpenAI(model=\"gpt-4o\", temperature=0)\n",
        "\n",
        "\n",
        "supervisor = create_supervisor(\n",
        "    model=response_model,\n",
        "    agents=[ignore_question_agent,rewrite_question_agent,generate_answer_agent],\n",
        "    prompt=(\n",
        "        \"You are a supervisor managing three agents:\\n\"\n",
        "        \"- a generate_answer agent. Returns answers for questions related to the document.\\n\"\n",
        "        \"- a ignore_question agent. Returns 'Not related' for questions completely irrelevant to the document.\\n\"\n",
        "        \"- an rewrite_question agent. Rewrites the question atmost 3 times before generating an answer to a question that is relevant to the document.\\n\"\n",
        "        \"INSTRUCTIONS:\\n\"\n",
        "        \"Assign work to one agent at a time, do not call agents in parallel.\\n\"\n",
        "        \"Do not do any work yourself.\"\n",
        "    ),\n",
        "    add_handoff_back_messages=True,\n",
        "    output_mode=\"full_history\",\n",
        ").compile()"
      ],
      "metadata": {
        "id": "y7XvyVrN71OD"
      },
      "execution_count": null,
      "outputs": []
    },
    {
      "cell_type": "code",
      "source": [
        "for chunk in ignore_question_agent.stream(\n",
        "    {\"messages\": [{\"role\": \"user\", \"content\": \"Capital of Karnataka\"}]}\n",
        "):\n",
        "    print(chunk)\n"
      ],
      "metadata": {
        "colab": {
          "base_uri": "https://localhost:8080/"
        },
        "id": "bt2j8ui5B0k1",
        "outputId": "0cc01ffb-d502-4980-a65a-1f19e0768fd0"
      },
      "execution_count": null,
      "outputs": [
        {
          "output_type": "stream",
          "name": "stdout",
          "text": [
            "{'agent': {'messages': [AIMessage(content='', additional_kwargs={'tool_calls': [{'id': 'call_xjkqe3hky1pIhjewennZb4cG', 'function': {'arguments': '{\"state\":{\"messages\":[{\"content\":\"Capital of Karnataka\",\"type\":\"human\"}]}}', 'name': 'ignore_question'}, 'type': 'function'}], 'refusal': None}, response_metadata={'token_usage': {'completion_tokens': 27, 'prompt_tokens': 3070, 'total_tokens': 3097, 'completion_tokens_details': {'accepted_prediction_tokens': 0, 'audio_tokens': 0, 'reasoning_tokens': 0, 'rejected_prediction_tokens': 0}, 'prompt_tokens_details': {'audio_tokens': 0, 'cached_tokens': 0}}, 'model_name': 'gpt-4.1-2025-04-14', 'system_fingerprint': 'fp_51e1070cf2', 'id': 'chatcmpl-BmwgEnwyrfq1BXxAwiOxFdp0YwsEb', 'service_tier': 'default', 'finish_reason': 'tool_calls', 'logprobs': None}, name='ignore_question_agent', id='run--8895afa0-992e-40f1-a438-a0cf549b4345-0', tool_calls=[{'name': 'ignore_question', 'args': {'state': {'messages': [{'content': 'Capital of Karnataka', 'type': 'human'}]}}, 'id': 'call_xjkqe3hky1pIhjewennZb4cG', 'type': 'tool_call'}], usage_metadata={'input_tokens': 3070, 'output_tokens': 27, 'total_tokens': 3097, 'input_token_details': {'audio': 0, 'cache_read': 0}, 'output_token_details': {'audio': 0, 'reasoning': 0}})]}}\n",
            "{'tools': {'messages': [ToolMessage(content='Error: NameError(\"name \\'messages\\' is not defined\")\\n Please fix your mistakes.', name='ignore_question', id='2c6e618d-2857-48b5-b88c-e2d37fb662ac', tool_call_id='call_xjkqe3hky1pIhjewennZb4cG', status='error')]}}\n",
            "{'agent': {'messages': [AIMessage(content='The question is not related to the document provided.', additional_kwargs={'refusal': None}, response_metadata={'token_usage': {'completion_tokens': 11, 'prompt_tokens': 3127, 'total_tokens': 3138, 'completion_tokens_details': {'accepted_prediction_tokens': 0, 'audio_tokens': 0, 'reasoning_tokens': 0, 'rejected_prediction_tokens': 0}, 'prompt_tokens_details': {'audio_tokens': 0, 'cached_tokens': 0}}, 'model_name': 'gpt-4.1-2025-04-14', 'system_fingerprint': 'fp_51e1070cf2', 'id': 'chatcmpl-BmwgHBQgY5XgVPIEHIJ3YrfyT2ewh', 'service_tier': 'default', 'finish_reason': 'stop', 'logprobs': None}, name='ignore_question_agent', id='run--3ecb821d-722b-42f2-9d1a-0f05284a592c-0', usage_metadata={'input_tokens': 3127, 'output_tokens': 11, 'total_tokens': 3138, 'input_token_details': {'audio': 0, 'cache_read': 0}, 'output_token_details': {'audio': 0, 'reasoning': 0}})]}}\n"
          ]
        }
      ]
    },
    {
      "cell_type": "code",
      "source": [
        "for chunk in rewrite_question_agent.stream(\n",
        "    {\"messages\": [{\"role\": \"user\", \"content\": \"How many members play in a cricket team?\"}]}\n",
        "):\n",
        "    print(chunk)\n"
      ],
      "metadata": {
        "colab": {
          "base_uri": "https://localhost:8080/"
        },
        "id": "QV2AKNPwB0hN",
        "outputId": "7780211f-5d63-4cdd-f3cb-9519cf9f977e"
      },
      "execution_count": null,
      "outputs": [
        {
          "output_type": "stream",
          "name": "stdout",
          "text": [
            "{'agent': {'messages': [AIMessage(content='', additional_kwargs={'tool_calls': [{'id': 'call_rU4oCSWHn6LOYOr5fhBjPsdc', 'function': {'arguments': '{\"state\":{\"messages\":[{\"content\":\"How many members play in a cricket team?\",\"type\":\"human\"}]}}', 'name': 'rewrite_question'}, 'type': 'function'}], 'refusal': None}, response_metadata={'token_usage': {'completion_tokens': 34, 'prompt_tokens': 3059, 'total_tokens': 3093, 'completion_tokens_details': {'accepted_prediction_tokens': 0, 'audio_tokens': 0, 'reasoning_tokens': 0, 'rejected_prediction_tokens': 0}, 'prompt_tokens_details': {'audio_tokens': 0, 'cached_tokens': 0}}, 'model_name': 'gpt-4.1-2025-04-14', 'system_fingerprint': 'fp_51e1070cf2', 'id': 'chatcmpl-Bmwh5yjjnAlod4gMyBS9gkSk7BL1P', 'service_tier': 'default', 'finish_reason': 'tool_calls', 'logprobs': None}, name='rewrite_question_agent', id='run--874a013a-97f7-43d4-8840-6ad9c636e9b7-0', tool_calls=[{'name': 'rewrite_question', 'args': {'state': {'messages': [{'content': 'How many members play in a cricket team?', 'type': 'human'}]}}, 'id': 'call_rU4oCSWHn6LOYOr5fhBjPsdc', 'type': 'tool_call'}], usage_metadata={'input_tokens': 3059, 'output_tokens': 34, 'total_tokens': 3093, 'input_token_details': {'audio': 0, 'cache_read': 0}, 'output_token_details': {'audio': 0, 'reasoning': 0}})]}}\n",
            "{'tools': {'messages': [ToolMessage(content='Error: NameError(\"name \\'messages\\' is not defined\")\\n Please fix your mistakes.', name='rewrite_question', id='62e15518-1d3e-47ce-945d-374bbbd0cc6b', tool_call_id='call_rU4oCSWHn6LOYOr5fhBjPsdc', status='error')]}}\n",
            "{'agent': {'messages': [AIMessage(content='How many players are there on a cricket team?', additional_kwargs={'refusal': None}, response_metadata={'token_usage': {'completion_tokens': 11, 'prompt_tokens': 3123, 'total_tokens': 3134, 'completion_tokens_details': {'accepted_prediction_tokens': 0, 'audio_tokens': 0, 'reasoning_tokens': 0, 'rejected_prediction_tokens': 0}, 'prompt_tokens_details': {'audio_tokens': 0, 'cached_tokens': 2944}}, 'model_name': 'gpt-4.1-2025-04-14', 'system_fingerprint': 'fp_51e1070cf2', 'id': 'chatcmpl-Bmwh7rPwNkCtLOpJvqLLyZJdm2Q5p', 'service_tier': 'default', 'finish_reason': 'stop', 'logprobs': None}, name='rewrite_question_agent', id='run--5e2c44c0-faad-4754-84ed-9b893e97dc81-0', usage_metadata={'input_tokens': 3123, 'output_tokens': 11, 'total_tokens': 3134, 'input_token_details': {'audio': 0, 'cache_read': 2944}, 'output_token_details': {'audio': 0, 'reasoning': 0}})]}}\n"
          ]
        }
      ]
    },
    {
      "cell_type": "code",
      "source": [
        "for chunk in generate_answer_agent.stream(\n",
        "    {\"messages\": [{\"role\": \"user\", \"content\": \"events that contributed to the spread of cricket in India?\"}]}\n",
        "):\n",
        "    print(chunk)\n"
      ],
      "metadata": {
        "colab": {
          "base_uri": "https://localhost:8080/"
        },
        "id": "CaJBAFurB0ZU",
        "outputId": "cf5fe6a5-5fc2-4c19-ac1a-5a4c8aa1d4cc"
      },
      "execution_count": null,
      "outputs": [
        {
          "output_type": "stream",
          "name": "stdout",
          "text": [
            "{'agent': {'messages': [AIMessage(content='The spread of cricket in India was initiated by British colonial rule, with the first recorded match played in the early 18th century. The establishment of cricket clubs by British settlers and the participation of local communities, such as the Parsis in Bombay, further popularized the game. Major events like the formation of the Bombay Quadrangular tournament and India’s eventual participation in international cricket strengthened cricket’s presence and appeal throughout the country.', additional_kwargs={'refusal': None}, response_metadata={'token_usage': {'completion_tokens': 86, 'prompt_tokens': 3077, 'total_tokens': 3163, 'completion_tokens_details': {'accepted_prediction_tokens': 0, 'audio_tokens': 0, 'reasoning_tokens': 0, 'rejected_prediction_tokens': 0}, 'prompt_tokens_details': {'audio_tokens': 0, 'cached_tokens': 0}}, 'model_name': 'gpt-4.1-2025-04-14', 'system_fingerprint': 'fp_51e1070cf2', 'id': 'chatcmpl-BmwiwtFJq9l9UUNrlMwvp16vLIa3V', 'service_tier': 'default', 'finish_reason': 'stop', 'logprobs': None}, name='generate_answer_agent', id='run--9e6e3036-ad16-49ee-b586-16195139bab3-0', usage_metadata={'input_tokens': 3077, 'output_tokens': 86, 'total_tokens': 3163, 'input_token_details': {'audio': 0, 'cache_read': 0}, 'output_token_details': {'audio': 0, 'reasoning': 0}})]}}\n"
          ]
        }
      ]
    },
    {
      "cell_type": "code",
      "source": [
        "for chunk in generate_answer_agent.stream(\n",
        "    {\"messages\": [{\"role\": \"user\", \"content\": \"The origins of Indian cricket, that is, cricket played by Indians are to be found in Bombay.\"}]}\n",
        "):\n",
        "    print(chunk)\n"
      ],
      "metadata": {
        "colab": {
          "base_uri": "https://localhost:8080/"
        },
        "id": "cDmqFaMhC2WH",
        "outputId": "941f3ebb-72dd-4b95-f3bc-5d25e6778245"
      },
      "execution_count": null,
      "outputs": [
        {
          "output_type": "stream",
          "name": "stdout",
          "text": [
            "{'agent': {'messages': [AIMessage(content='The origins of Indian cricket, specifically cricket played by Indians, can be traced back to Bombay.', additional_kwargs={'refusal': None}, response_metadata={'token_usage': {'completion_tokens': 20, 'prompt_tokens': 3086, 'total_tokens': 3106, 'completion_tokens_details': {'accepted_prediction_tokens': 0, 'audio_tokens': 0, 'reasoning_tokens': 0, 'rejected_prediction_tokens': 0}, 'prompt_tokens_details': {'audio_tokens': 0, 'cached_tokens': 0}}, 'model_name': 'gpt-4.1-2025-04-14', 'system_fingerprint': 'fp_51e1070cf2', 'id': 'chatcmpl-Bmwk3Bl5exE238rsHY2W76XxsCWF7', 'service_tier': 'default', 'finish_reason': 'stop', 'logprobs': None}, name='generate_answer_agent', id='run--641bfd79-d0e3-4b7e-9432-ff45a5000f4c-0', usage_metadata={'input_tokens': 3086, 'output_tokens': 20, 'total_tokens': 3106, 'input_token_details': {'audio': 0, 'cache_read': 0}, 'output_token_details': {'audio': 0, 'reasoning': 0}})]}}\n"
          ]
        }
      ]
    },
    {
      "cell_type": "code",
      "source": [
        "def pretty_print_messages(chunk, last_message=False):\n",
        "    if last_message:\n",
        "        messages = chunk.get(\"supervisor\", {}).get(\"messages\", [])\n",
        "    else:\n",
        "        messages = chunk.get(\"messages\", [])\n",
        "\n",
        "    for message in messages:\n",
        "        print(f\"{message.role}: {message.content}\")\n"
      ],
      "metadata": {
        "id": "zxH55qs4DH71"
      },
      "execution_count": null,
      "outputs": []
    },
    {
      "cell_type": "code",
      "source": [
        "for chunk in supervisor.stream(\n",
        "    {\n",
        "        \"messages\": [\n",
        "            {\n",
        "                \"role\": \"user\",\n",
        "                \"content\": \"Capital of Karnataka?How many members play in a cricket team?events that contributed to the spread of cricket in India?The origins of Indian cricket, that is, cricket played by Indians are to be found in Bombay.\",\n",
        "            }\n",
        "        ]\n",
        "    },\n",
        "):\n",
        "    print(chunk)\n",
        "\n",
        "final_message_history = chunk[\"supervisor\"][\"messages\"]\n"
      ],
      "metadata": {
        "colab": {
          "base_uri": "https://localhost:8080/"
        },
        "id": "3tOxkS7fDKCH",
        "outputId": "4142913a-c6ef-4c0a-c49b-ba95995391b0"
      },
      "execution_count": null,
      "outputs": [
        {
          "output_type": "stream",
          "name": "stderr",
          "text": [
            "WARNING:langgraph:Task supervisor with path ('__pregel_pull', 'supervisor') wrote to unknown channel is_last_step, ignoring it.\n",
            "WARNING:langgraph:Task supervisor with path ('__pregel_pull', 'supervisor') wrote to unknown channel remaining_steps, ignoring it.\n"
          ]
        },
        {
          "output_type": "stream",
          "name": "stdout",
          "text": [
            "{'supervisor': {'messages': [HumanMessage(content='Capital of Karnataka?How many members play in a cricket team?events that contributed to the spread of cricket in India?The origins of Indian cricket, that is, cricket played by Indians are to be found in Bombay.', additional_kwargs={}, response_metadata={}, id='e1efb7be-33b1-499b-b2e9-c4a609f8e2fa'), AIMessage(content='', additional_kwargs={'tool_calls': [{'id': 'call_Qs6pikjoj5DK6nEuzEpcaqs2', 'function': {'arguments': '{}', 'name': 'transfer_to_ignore_question_agent'}, 'type': 'function'}], 'refusal': None}, response_metadata={'token_usage': {'completion_tokens': 13, 'prompt_tokens': 228, 'total_tokens': 241, 'completion_tokens_details': {'accepted_prediction_tokens': 0, 'audio_tokens': 0, 'reasoning_tokens': 0, 'rejected_prediction_tokens': 0}, 'prompt_tokens_details': {'audio_tokens': 0, 'cached_tokens': 0}}, 'model_name': 'gpt-4o-2024-08-06', 'system_fingerprint': 'fp_a288987b44', 'id': 'chatcmpl-Bmwlt6bybfe7dnMVpOGL7RkXgcs6E', 'service_tier': 'default', 'finish_reason': 'tool_calls', 'logprobs': None}, name='supervisor', id='run--2f52640e-3ba9-433e-9af6-e11366c41557-0', tool_calls=[{'name': 'transfer_to_ignore_question_agent', 'args': {}, 'id': 'call_Qs6pikjoj5DK6nEuzEpcaqs2', 'type': 'tool_call'}], usage_metadata={'input_tokens': 228, 'output_tokens': 13, 'total_tokens': 241, 'input_token_details': {'audio': 0, 'cache_read': 0}, 'output_token_details': {'audio': 0, 'reasoning': 0}}), ToolMessage(content='Successfully transferred to ignore_question_agent', name='transfer_to_ignore_question_agent', id='74c1ad95-1447-4a34-9a99-06f1bd215a50', tool_call_id='call_Qs6pikjoj5DK6nEuzEpcaqs2')]}}\n",
            "{'ignore_question_agent': {'messages': [HumanMessage(content='Capital of Karnataka?How many members play in a cricket team?events that contributed to the spread of cricket in India?The origins of Indian cricket, that is, cricket played by Indians are to be found in Bombay.', additional_kwargs={}, response_metadata={}, id='e1efb7be-33b1-499b-b2e9-c4a609f8e2fa'), AIMessage(content='', additional_kwargs={'tool_calls': [{'id': 'call_Qs6pikjoj5DK6nEuzEpcaqs2', 'function': {'arguments': '{}', 'name': 'transfer_to_ignore_question_agent'}, 'type': 'function'}], 'refusal': None}, response_metadata={'token_usage': {'completion_tokens': 13, 'prompt_tokens': 228, 'total_tokens': 241, 'completion_tokens_details': {'accepted_prediction_tokens': 0, 'audio_tokens': 0, 'reasoning_tokens': 0, 'rejected_prediction_tokens': 0}, 'prompt_tokens_details': {'audio_tokens': 0, 'cached_tokens': 0}}, 'model_name': 'gpt-4o-2024-08-06', 'system_fingerprint': 'fp_a288987b44', 'id': 'chatcmpl-Bmwlt6bybfe7dnMVpOGL7RkXgcs6E', 'service_tier': 'default', 'finish_reason': 'tool_calls', 'logprobs': None}, name='supervisor', id='run--2f52640e-3ba9-433e-9af6-e11366c41557-0', tool_calls=[{'name': 'transfer_to_ignore_question_agent', 'args': {}, 'id': 'call_Qs6pikjoj5DK6nEuzEpcaqs2', 'type': 'tool_call'}], usage_metadata={'input_tokens': 228, 'output_tokens': 13, 'total_tokens': 241, 'input_token_details': {'audio': 0, 'cache_read': 0}, 'output_token_details': {'audio': 0, 'reasoning': 0}}), ToolMessage(content='Successfully transferred to ignore_question_agent', name='transfer_to_ignore_question_agent', id='74c1ad95-1447-4a34-9a99-06f1bd215a50', tool_call_id='call_Qs6pikjoj5DK6nEuzEpcaqs2'), AIMessage(content='The question is not related to the document provided.', additional_kwargs={'refusal': None}, response_metadata={'token_usage': {'completion_tokens': 11, 'prompt_tokens': 3144, 'total_tokens': 3155, 'completion_tokens_details': {'accepted_prediction_tokens': 0, 'audio_tokens': 0, 'reasoning_tokens': 0, 'rejected_prediction_tokens': 0}, 'prompt_tokens_details': {'audio_tokens': 0, 'cached_tokens': 0}}, 'model_name': 'gpt-4.1-2025-04-14', 'system_fingerprint': 'fp_799e4ca3f1', 'id': 'chatcmpl-Bmwlu5WSLmf9Xa1UGWRRoySyMJEw7', 'service_tier': 'default', 'finish_reason': 'stop', 'logprobs': None}, name='ignore_question_agent', id='run--610a6d57-b901-449b-91eb-56c58c8a0920-0', usage_metadata={'input_tokens': 3144, 'output_tokens': 11, 'total_tokens': 3155, 'input_token_details': {'audio': 0, 'cache_read': 0}, 'output_token_details': {'audio': 0, 'reasoning': 0}}), AIMessage(content='Transferring back to supervisor', additional_kwargs={}, response_metadata={'__is_handoff_back': True}, name='ignore_question_agent', id='e9afc1a5-0741-46a1-9066-285a0f5bcf1e', tool_calls=[{'name': 'transfer_back_to_supervisor', 'args': {}, 'id': '4263204e-310b-4b41-984d-1aa180c055c4', 'type': 'tool_call'}]), ToolMessage(content='Successfully transferred back to supervisor', name='transfer_back_to_supervisor', id='9c0d51b6-1fc5-40ef-9008-59acf8d6cad5', tool_call_id='4263204e-310b-4b41-984d-1aa180c055c4')]}}\n",
            "{'supervisor': {'messages': [HumanMessage(content='Capital of Karnataka?How many members play in a cricket team?events that contributed to the spread of cricket in India?The origins of Indian cricket, that is, cricket played by Indians are to be found in Bombay.', additional_kwargs={}, response_metadata={}, id='e1efb7be-33b1-499b-b2e9-c4a609f8e2fa'), AIMessage(content='', additional_kwargs={'tool_calls': [{'id': 'call_Qs6pikjoj5DK6nEuzEpcaqs2', 'function': {'arguments': '{}', 'name': 'transfer_to_ignore_question_agent'}, 'type': 'function'}], 'refusal': None}, response_metadata={'token_usage': {'completion_tokens': 13, 'prompt_tokens': 228, 'total_tokens': 241, 'completion_tokens_details': {'accepted_prediction_tokens': 0, 'audio_tokens': 0, 'reasoning_tokens': 0, 'rejected_prediction_tokens': 0}, 'prompt_tokens_details': {'audio_tokens': 0, 'cached_tokens': 0}}, 'model_name': 'gpt-4o-2024-08-06', 'system_fingerprint': 'fp_a288987b44', 'id': 'chatcmpl-Bmwlt6bybfe7dnMVpOGL7RkXgcs6E', 'service_tier': 'default', 'finish_reason': 'tool_calls', 'logprobs': None}, name='supervisor', id='run--2f52640e-3ba9-433e-9af6-e11366c41557-0', tool_calls=[{'name': 'transfer_to_ignore_question_agent', 'args': {}, 'id': 'call_Qs6pikjoj5DK6nEuzEpcaqs2', 'type': 'tool_call'}], usage_metadata={'input_tokens': 228, 'output_tokens': 13, 'total_tokens': 241, 'input_token_details': {'audio': 0, 'cache_read': 0}, 'output_token_details': {'audio': 0, 'reasoning': 0}}), ToolMessage(content='Successfully transferred to ignore_question_agent', name='transfer_to_ignore_question_agent', id='74c1ad95-1447-4a34-9a99-06f1bd215a50', tool_call_id='call_Qs6pikjoj5DK6nEuzEpcaqs2'), AIMessage(content='The question is not related to the document provided.', additional_kwargs={'refusal': None}, response_metadata={'token_usage': {'completion_tokens': 11, 'prompt_tokens': 3144, 'total_tokens': 3155, 'completion_tokens_details': {'accepted_prediction_tokens': 0, 'audio_tokens': 0, 'reasoning_tokens': 0, 'rejected_prediction_tokens': 0}, 'prompt_tokens_details': {'audio_tokens': 0, 'cached_tokens': 0}}, 'model_name': 'gpt-4.1-2025-04-14', 'system_fingerprint': 'fp_799e4ca3f1', 'id': 'chatcmpl-Bmwlu5WSLmf9Xa1UGWRRoySyMJEw7', 'service_tier': 'default', 'finish_reason': 'stop', 'logprobs': None}, name='ignore_question_agent', id='run--610a6d57-b901-449b-91eb-56c58c8a0920-0', usage_metadata={'input_tokens': 3144, 'output_tokens': 11, 'total_tokens': 3155, 'input_token_details': {'audio': 0, 'cache_read': 0}, 'output_token_details': {'audio': 0, 'reasoning': 0}}), AIMessage(content='Transferring back to supervisor', additional_kwargs={}, response_metadata={'__is_handoff_back': True}, name='ignore_question_agent', id='e9afc1a5-0741-46a1-9066-285a0f5bcf1e', tool_calls=[{'name': 'transfer_back_to_supervisor', 'args': {}, 'id': '4263204e-310b-4b41-984d-1aa180c055c4', 'type': 'tool_call'}]), ToolMessage(content='Successfully transferred back to supervisor', name='transfer_back_to_supervisor', id='9c0d51b6-1fc5-40ef-9008-59acf8d6cad5', tool_call_id='4263204e-310b-4b41-984d-1aa180c055c4'), AIMessage(content='The question is not related to the document.', additional_kwargs={'refusal': None}, response_metadata={'token_usage': {'completion_tokens': 10, 'prompt_tokens': 326, 'total_tokens': 336, 'completion_tokens_details': {'accepted_prediction_tokens': 0, 'audio_tokens': 0, 'reasoning_tokens': 0, 'rejected_prediction_tokens': 0}, 'prompt_tokens_details': {'audio_tokens': 0, 'cached_tokens': 0}}, 'model_name': 'gpt-4o-2024-08-06', 'system_fingerprint': 'fp_a288987b44', 'id': 'chatcmpl-Bmwlv06x4WBZCvT61b2NqYduGQnHB', 'service_tier': 'default', 'finish_reason': 'stop', 'logprobs': None}, name='supervisor', id='run--74b67ea1-1c81-46b2-baa4-71d93ff924d0-0', usage_metadata={'input_tokens': 326, 'output_tokens': 10, 'total_tokens': 336, 'input_token_details': {'audio': 0, 'cache_read': 0}, 'output_token_details': {'audio': 0, 'reasoning': 0}})]}}\n"
          ]
        }
      ]
    },
    {
      "cell_type": "code",
      "source": [
        "for message in final_message_history:\n",
        "    message.pretty_print()"
      ],
      "metadata": {
        "colab": {
          "base_uri": "https://localhost:8080/"
        },
        "id": "k6TeFcVGDox0",
        "outputId": "27850877-433d-4bd0-df07-4bdbb60e68bd"
      },
      "execution_count": null,
      "outputs": [
        {
          "output_type": "stream",
          "name": "stdout",
          "text": [
            "================================\u001b[1m Human Message \u001b[0m=================================\n",
            "\n",
            "Capital of Karnataka?How many members play in a cricket team?events that contributed to the spread of cricket in India?The origins of Indian cricket, that is, cricket played by Indians are to be found in Bombay.\n",
            "==================================\u001b[1m Ai Message \u001b[0m==================================\n",
            "Name: supervisor\n",
            "Tool Calls:\n",
            "  transfer_to_ignore_question_agent (call_Qs6pikjoj5DK6nEuzEpcaqs2)\n",
            " Call ID: call_Qs6pikjoj5DK6nEuzEpcaqs2\n",
            "  Args:\n",
            "=================================\u001b[1m Tool Message \u001b[0m=================================\n",
            "Name: transfer_to_ignore_question_agent\n",
            "\n",
            "Successfully transferred to ignore_question_agent\n",
            "==================================\u001b[1m Ai Message \u001b[0m==================================\n",
            "Name: ignore_question_agent\n",
            "\n",
            "The question is not related to the document provided.\n",
            "==================================\u001b[1m Ai Message \u001b[0m==================================\n",
            "Name: ignore_question_agent\n",
            "\n",
            "Transferring back to supervisor\n",
            "Tool Calls:\n",
            "  transfer_back_to_supervisor (4263204e-310b-4b41-984d-1aa180c055c4)\n",
            " Call ID: 4263204e-310b-4b41-984d-1aa180c055c4\n",
            "  Args:\n",
            "=================================\u001b[1m Tool Message \u001b[0m=================================\n",
            "Name: transfer_back_to_supervisor\n",
            "\n",
            "Successfully transferred back to supervisor\n",
            "==================================\u001b[1m Ai Message \u001b[0m==================================\n",
            "Name: supervisor\n",
            "\n",
            "The question is not related to the document.\n"
          ]
        }
      ]
    },
    {
      "cell_type": "code",
      "source": [
        "for chunk in supervisor.stream(\n",
        "    {\n",
        "        \"messages\": [\n",
        "            {\n",
        "                \"role\": \"user\",\n",
        "                \"content\": \"events that contributed to the spread of cricket in India?.\",\n",
        "            }\n",
        "        ]\n",
        "    },\n",
        "):\n",
        "    print(chunk)\n",
        "\n",
        "final_message_history = chunk[\"supervisor\"][\"messages\"]\n"
      ],
      "metadata": {
        "colab": {
          "base_uri": "https://localhost:8080/"
        },
        "id": "bk0q9Tn6Ds0s",
        "outputId": "fa35b6be-afb3-4cfd-ab31-fec727b9e855"
      },
      "execution_count": null,
      "outputs": [
        {
          "output_type": "stream",
          "name": "stderr",
          "text": [
            "WARNING:langgraph:Task supervisor with path ('__pregel_pull', 'supervisor') wrote to unknown channel is_last_step, ignoring it.\n",
            "WARNING:langgraph:Task supervisor with path ('__pregel_pull', 'supervisor') wrote to unknown channel remaining_steps, ignoring it.\n"
          ]
        },
        {
          "output_type": "stream",
          "name": "stdout",
          "text": [
            "{'supervisor': {'messages': [HumanMessage(content='events that contributed to the spread of cricket in India?.', additional_kwargs={}, response_metadata={}, id='dc12b23c-d345-4b77-94e6-a7a29a0584cc'), AIMessage(content='', additional_kwargs={'tool_calls': [{'id': 'call_0RgJ3G5o7l7XgRGjKHfYiFgL', 'function': {'arguments': '{}', 'name': 'transfer_to_generate_answer_agent'}, 'type': 'function'}], 'refusal': None}, response_metadata={'token_usage': {'completion_tokens': 13, 'prompt_tokens': 195, 'total_tokens': 208, 'completion_tokens_details': {'accepted_prediction_tokens': 0, 'audio_tokens': 0, 'reasoning_tokens': 0, 'rejected_prediction_tokens': 0}, 'prompt_tokens_details': {'audio_tokens': 0, 'cached_tokens': 0}}, 'model_name': 'gpt-4o-2024-08-06', 'system_fingerprint': 'fp_a288987b44', 'id': 'chatcmpl-BmwrlMfmb5kj9zAtYfqsfBrAdIXvC', 'service_tier': 'default', 'finish_reason': 'tool_calls', 'logprobs': None}, name='supervisor', id='run--228121eb-5136-428e-ab50-ab0d2054d827-0', tool_calls=[{'name': 'transfer_to_generate_answer_agent', 'args': {}, 'id': 'call_0RgJ3G5o7l7XgRGjKHfYiFgL', 'type': 'tool_call'}], usage_metadata={'input_tokens': 195, 'output_tokens': 13, 'total_tokens': 208, 'input_token_details': {'audio': 0, 'cache_read': 0}, 'output_token_details': {'audio': 0, 'reasoning': 0}}), ToolMessage(content='Successfully transferred to generate_answer_agent', name='transfer_to_generate_answer_agent', id='87daf1f7-c712-4af2-8430-3756079fe396', tool_call_id='call_0RgJ3G5o7l7XgRGjKHfYiFgL')]}}\n",
            "{'generate_answer_agent': {'messages': [HumanMessage(content='events that contributed to the spread of cricket in India?.', additional_kwargs={}, response_metadata={}, id='dc12b23c-d345-4b77-94e6-a7a29a0584cc'), AIMessage(content='', additional_kwargs={'tool_calls': [{'id': 'call_0RgJ3G5o7l7XgRGjKHfYiFgL', 'function': {'arguments': '{}', 'name': 'transfer_to_generate_answer_agent'}, 'type': 'function'}], 'refusal': None}, response_metadata={'token_usage': {'completion_tokens': 13, 'prompt_tokens': 195, 'total_tokens': 208, 'completion_tokens_details': {'accepted_prediction_tokens': 0, 'audio_tokens': 0, 'reasoning_tokens': 0, 'rejected_prediction_tokens': 0}, 'prompt_tokens_details': {'audio_tokens': 0, 'cached_tokens': 0}}, 'model_name': 'gpt-4o-2024-08-06', 'system_fingerprint': 'fp_a288987b44', 'id': 'chatcmpl-BmwrlMfmb5kj9zAtYfqsfBrAdIXvC', 'service_tier': 'default', 'finish_reason': 'tool_calls', 'logprobs': None}, name='supervisor', id='run--228121eb-5136-428e-ab50-ab0d2054d827-0', tool_calls=[{'name': 'transfer_to_generate_answer_agent', 'args': {}, 'id': 'call_0RgJ3G5o7l7XgRGjKHfYiFgL', 'type': 'tool_call'}], usage_metadata={'input_tokens': 195, 'output_tokens': 13, 'total_tokens': 208, 'input_token_details': {'audio': 0, 'cache_read': 0}, 'output_token_details': {'audio': 0, 'reasoning': 0}}), ToolMessage(content='Successfully transferred to generate_answer_agent', name='transfer_to_generate_answer_agent', id='87daf1f7-c712-4af2-8430-3756079fe396', tool_call_id='call_0RgJ3G5o7l7XgRGjKHfYiFgL'), AIMessage(content='The spread of cricket in India was influenced by several key events: the introduction of the game by British colonial rulers in the 18th century, the formation of local cricket clubs like the Bombay Gymkhana and the Parsi Cricket Club, and the hosting of international matches such as the first test match in 1932. Cricket became deeply embedded in Indian society, with schools and princely states promoting the sport. The successes of the Indian team in international tournaments, especially the 1983 Cricket World Cup win, further fueled its popularity across the country.', additional_kwargs={'refusal': None}, response_metadata={'token_usage': {'completion_tokens': 112, 'prompt_tokens': 3110, 'total_tokens': 3222, 'completion_tokens_details': {'accepted_prediction_tokens': 0, 'audio_tokens': 0, 'reasoning_tokens': 0, 'rejected_prediction_tokens': 0}, 'prompt_tokens_details': {'audio_tokens': 0, 'cached_tokens': 2944}}, 'model_name': 'gpt-4.1-2025-04-14', 'system_fingerprint': 'fp_51e1070cf2', 'id': 'chatcmpl-Bmwrmg9ClcXZMNLky39dUdksDjkzb', 'service_tier': 'default', 'finish_reason': 'stop', 'logprobs': None}, name='generate_answer_agent', id='run--d206a438-70c5-4a1a-ac96-7cb06932e150-0', usage_metadata={'input_tokens': 3110, 'output_tokens': 112, 'total_tokens': 3222, 'input_token_details': {'audio': 0, 'cache_read': 2944}, 'output_token_details': {'audio': 0, 'reasoning': 0}}), AIMessage(content='Transferring back to supervisor', additional_kwargs={}, response_metadata={'__is_handoff_back': True}, name='generate_answer_agent', id='1a5c88bc-b59e-4bc3-a78f-24616afb253d', tool_calls=[{'name': 'transfer_back_to_supervisor', 'args': {}, 'id': '03116ffa-e703-4cf2-84a1-d1194a629ead', 'type': 'tool_call'}]), ToolMessage(content='Successfully transferred back to supervisor', name='transfer_back_to_supervisor', id='1732583e-d5fc-43b8-8515-e1e9801d4fa2', tool_call_id='03116ffa-e703-4cf2-84a1-d1194a629ead')]}}\n",
            "{'supervisor': {'messages': [HumanMessage(content='events that contributed to the spread of cricket in India?.', additional_kwargs={}, response_metadata={}, id='dc12b23c-d345-4b77-94e6-a7a29a0584cc'), AIMessage(content='', additional_kwargs={'tool_calls': [{'id': 'call_0RgJ3G5o7l7XgRGjKHfYiFgL', 'function': {'arguments': '{}', 'name': 'transfer_to_generate_answer_agent'}, 'type': 'function'}], 'refusal': None}, response_metadata={'token_usage': {'completion_tokens': 13, 'prompt_tokens': 195, 'total_tokens': 208, 'completion_tokens_details': {'accepted_prediction_tokens': 0, 'audio_tokens': 0, 'reasoning_tokens': 0, 'rejected_prediction_tokens': 0}, 'prompt_tokens_details': {'audio_tokens': 0, 'cached_tokens': 0}}, 'model_name': 'gpt-4o-2024-08-06', 'system_fingerprint': 'fp_a288987b44', 'id': 'chatcmpl-BmwrlMfmb5kj9zAtYfqsfBrAdIXvC', 'service_tier': 'default', 'finish_reason': 'tool_calls', 'logprobs': None}, name='supervisor', id='run--228121eb-5136-428e-ab50-ab0d2054d827-0', tool_calls=[{'name': 'transfer_to_generate_answer_agent', 'args': {}, 'id': 'call_0RgJ3G5o7l7XgRGjKHfYiFgL', 'type': 'tool_call'}], usage_metadata={'input_tokens': 195, 'output_tokens': 13, 'total_tokens': 208, 'input_token_details': {'audio': 0, 'cache_read': 0}, 'output_token_details': {'audio': 0, 'reasoning': 0}}), ToolMessage(content='Successfully transferred to generate_answer_agent', name='transfer_to_generate_answer_agent', id='87daf1f7-c712-4af2-8430-3756079fe396', tool_call_id='call_0RgJ3G5o7l7XgRGjKHfYiFgL'), AIMessage(content='The spread of cricket in India was influenced by several key events: the introduction of the game by British colonial rulers in the 18th century, the formation of local cricket clubs like the Bombay Gymkhana and the Parsi Cricket Club, and the hosting of international matches such as the first test match in 1932. Cricket became deeply embedded in Indian society, with schools and princely states promoting the sport. The successes of the Indian team in international tournaments, especially the 1983 Cricket World Cup win, further fueled its popularity across the country.', additional_kwargs={'refusal': None}, response_metadata={'token_usage': {'completion_tokens': 112, 'prompt_tokens': 3110, 'total_tokens': 3222, 'completion_tokens_details': {'accepted_prediction_tokens': 0, 'audio_tokens': 0, 'reasoning_tokens': 0, 'rejected_prediction_tokens': 0}, 'prompt_tokens_details': {'audio_tokens': 0, 'cached_tokens': 2944}}, 'model_name': 'gpt-4.1-2025-04-14', 'system_fingerprint': 'fp_51e1070cf2', 'id': 'chatcmpl-Bmwrmg9ClcXZMNLky39dUdksDjkzb', 'service_tier': 'default', 'finish_reason': 'stop', 'logprobs': None}, name='generate_answer_agent', id='run--d206a438-70c5-4a1a-ac96-7cb06932e150-0', usage_metadata={'input_tokens': 3110, 'output_tokens': 112, 'total_tokens': 3222, 'input_token_details': {'audio': 0, 'cache_read': 2944}, 'output_token_details': {'audio': 0, 'reasoning': 0}}), AIMessage(content='Transferring back to supervisor', additional_kwargs={}, response_metadata={'__is_handoff_back': True}, name='generate_answer_agent', id='1a5c88bc-b59e-4bc3-a78f-24616afb253d', tool_calls=[{'name': 'transfer_back_to_supervisor', 'args': {}, 'id': '03116ffa-e703-4cf2-84a1-d1194a629ead', 'type': 'tool_call'}]), ToolMessage(content='Successfully transferred back to supervisor', name='transfer_back_to_supervisor', id='1732583e-d5fc-43b8-8515-e1e9801d4fa2', tool_call_id='03116ffa-e703-4cf2-84a1-d1194a629ead'), AIMessage(content='The spread of cricket in India was influenced by several key events: the introduction of the game by British colonial rulers in the 18th century, the formation of local cricket clubs like the Bombay Gymkhana and the Parsi Cricket Club, and the hosting of international matches such as the first test match in 1932. Cricket became deeply embedded in Indian society, with schools and princely states promoting the sport. The successes of the Indian team in international tournaments, especially the 1983 Cricket World Cup win, further fueled its popularity across the country.', additional_kwargs={'refusal': None}, response_metadata={'token_usage': {'completion_tokens': 112, 'prompt_tokens': 394, 'total_tokens': 506, 'completion_tokens_details': {'accepted_prediction_tokens': 0, 'audio_tokens': 0, 'reasoning_tokens': 0, 'rejected_prediction_tokens': 0}, 'prompt_tokens_details': {'audio_tokens': 0, 'cached_tokens': 0}}, 'model_name': 'gpt-4o-2024-08-06', 'system_fingerprint': 'fp_a288987b44', 'id': 'chatcmpl-BmwroV4E2rcktEA8iEZgYlWWHWBeq', 'service_tier': 'default', 'finish_reason': 'stop', 'logprobs': None}, name='supervisor', id='run--6df1512a-d1a0-4515-b40d-a6f51d8911b3-0', usage_metadata={'input_tokens': 394, 'output_tokens': 112, 'total_tokens': 506, 'input_token_details': {'audio': 0, 'cache_read': 0}, 'output_token_details': {'audio': 0, 'reasoning': 0}})]}}\n"
          ]
        }
      ]
    },
    {
      "cell_type": "code",
      "source": [
        "for message in final_message_history:\n",
        "    message.pretty_print()"
      ],
      "metadata": {
        "colab": {
          "base_uri": "https://localhost:8080/"
        },
        "id": "iAThUj-mD99B",
        "outputId": "b084749c-3e2c-4462-b453-342fa6ceb3ff"
      },
      "execution_count": null,
      "outputs": [
        {
          "output_type": "stream",
          "name": "stdout",
          "text": [
            "================================\u001b[1m Human Message \u001b[0m=================================\n",
            "\n",
            "events that contributed to the spread of cricket in India?.\n",
            "==================================\u001b[1m Ai Message \u001b[0m==================================\n",
            "Name: supervisor\n",
            "Tool Calls:\n",
            "  transfer_to_generate_answer_agent (call_0RgJ3G5o7l7XgRGjKHfYiFgL)\n",
            " Call ID: call_0RgJ3G5o7l7XgRGjKHfYiFgL\n",
            "  Args:\n",
            "=================================\u001b[1m Tool Message \u001b[0m=================================\n",
            "Name: transfer_to_generate_answer_agent\n",
            "\n",
            "Successfully transferred to generate_answer_agent\n",
            "==================================\u001b[1m Ai Message \u001b[0m==================================\n",
            "Name: generate_answer_agent\n",
            "\n",
            "The spread of cricket in India was influenced by several key events: the introduction of the game by British colonial rulers in the 18th century, the formation of local cricket clubs like the Bombay Gymkhana and the Parsi Cricket Club, and the hosting of international matches such as the first test match in 1932. Cricket became deeply embedded in Indian society, with schools and princely states promoting the sport. The successes of the Indian team in international tournaments, especially the 1983 Cricket World Cup win, further fueled its popularity across the country.\n",
            "==================================\u001b[1m Ai Message \u001b[0m==================================\n",
            "Name: generate_answer_agent\n",
            "\n",
            "Transferring back to supervisor\n",
            "Tool Calls:\n",
            "  transfer_back_to_supervisor (03116ffa-e703-4cf2-84a1-d1194a629ead)\n",
            " Call ID: 03116ffa-e703-4cf2-84a1-d1194a629ead\n",
            "  Args:\n",
            "=================================\u001b[1m Tool Message \u001b[0m=================================\n",
            "Name: transfer_back_to_supervisor\n",
            "\n",
            "Successfully transferred back to supervisor\n",
            "==================================\u001b[1m Ai Message \u001b[0m==================================\n",
            "Name: supervisor\n",
            "\n",
            "The spread of cricket in India was influenced by several key events: the introduction of the game by British colonial rulers in the 18th century, the formation of local cricket clubs like the Bombay Gymkhana and the Parsi Cricket Club, and the hosting of international matches such as the first test match in 1932. Cricket became deeply embedded in Indian society, with schools and princely states promoting the sport. The successes of the Indian team in international tournaments, especially the 1983 Cricket World Cup win, further fueled its popularity across the country.\n"
          ]
        }
      ]
    },
    {
      "cell_type": "code",
      "source": [
        "for chunk in supervisor.stream(\n",
        "    {\n",
        "        \"messages\": [\n",
        "            {\n",
        "                \"role\": \"user\",\n",
        "                \"content\": \"Role of women in cricket\",\n",
        "            }\n",
        "        ]\n",
        "    },\n",
        "):\n",
        "    print(chunk)\n",
        "\n",
        "final_message_history = chunk[\"supervisor\"][\"messages\"]\n"
      ],
      "metadata": {
        "colab": {
          "base_uri": "https://localhost:8080/"
        },
        "id": "rIxaRiugEQ12",
        "outputId": "f6ae0424-1522-4a66-bae3-bd39e80427c1"
      },
      "execution_count": null,
      "outputs": [
        {
          "output_type": "stream",
          "name": "stderr",
          "text": [
            "WARNING:langgraph:Task supervisor with path ('__pregel_pull', 'supervisor') wrote to unknown channel is_last_step, ignoring it.\n",
            "WARNING:langgraph:Task supervisor with path ('__pregel_pull', 'supervisor') wrote to unknown channel remaining_steps, ignoring it.\n"
          ]
        },
        {
          "output_type": "stream",
          "name": "stdout",
          "text": [
            "{'supervisor': {'messages': [HumanMessage(content='Role of women in cricket', additional_kwargs={}, response_metadata={}, id='1ad54e54-b48e-4476-bfd4-af403387759f'), AIMessage(content='', additional_kwargs={'tool_calls': [{'id': 'call_yynTSdk0imznuYdPx0VRxJLI', 'function': {'arguments': '{}', 'name': 'transfer_to_generate_answer_agent'}, 'type': 'function'}], 'refusal': None}, response_metadata={'token_usage': {'completion_tokens': 13, 'prompt_tokens': 189, 'total_tokens': 202, 'completion_tokens_details': {'accepted_prediction_tokens': 0, 'audio_tokens': 0, 'reasoning_tokens': 0, 'rejected_prediction_tokens': 0}, 'prompt_tokens_details': {'audio_tokens': 0, 'cached_tokens': 0}}, 'model_name': 'gpt-4o-2024-08-06', 'system_fingerprint': 'fp_a288987b44', 'id': 'chatcmpl-BmwsAUIMqoo0hWiw4SXtpoepaeLzy', 'service_tier': 'default', 'finish_reason': 'tool_calls', 'logprobs': None}, name='supervisor', id='run--2c61d686-8055-4af2-aa94-c14ff747cee3-0', tool_calls=[{'name': 'transfer_to_generate_answer_agent', 'args': {}, 'id': 'call_yynTSdk0imznuYdPx0VRxJLI', 'type': 'tool_call'}], usage_metadata={'input_tokens': 189, 'output_tokens': 13, 'total_tokens': 202, 'input_token_details': {'audio': 0, 'cache_read': 0}, 'output_token_details': {'audio': 0, 'reasoning': 0}}), ToolMessage(content='Successfully transferred to generate_answer_agent', name='transfer_to_generate_answer_agent', id='5b60b99d-65b9-411b-80fe-b00dc0b67f24', tool_call_id='call_yynTSdk0imznuYdPx0VRxJLI')]}}\n",
            "{'generate_answer_agent': {'messages': [HumanMessage(content='Role of women in cricket', additional_kwargs={}, response_metadata={}, id='1ad54e54-b48e-4476-bfd4-af403387759f'), AIMessage(content='', additional_kwargs={'tool_calls': [{'id': 'call_yynTSdk0imznuYdPx0VRxJLI', 'function': {'arguments': '{}', 'name': 'transfer_to_generate_answer_agent'}, 'type': 'function'}], 'refusal': None}, response_metadata={'token_usage': {'completion_tokens': 13, 'prompt_tokens': 189, 'total_tokens': 202, 'completion_tokens_details': {'accepted_prediction_tokens': 0, 'audio_tokens': 0, 'reasoning_tokens': 0, 'rejected_prediction_tokens': 0}, 'prompt_tokens_details': {'audio_tokens': 0, 'cached_tokens': 0}}, 'model_name': 'gpt-4o-2024-08-06', 'system_fingerprint': 'fp_a288987b44', 'id': 'chatcmpl-BmwsAUIMqoo0hWiw4SXtpoepaeLzy', 'service_tier': 'default', 'finish_reason': 'tool_calls', 'logprobs': None}, name='supervisor', id='run--2c61d686-8055-4af2-aa94-c14ff747cee3-0', tool_calls=[{'name': 'transfer_to_generate_answer_agent', 'args': {}, 'id': 'call_yynTSdk0imznuYdPx0VRxJLI', 'type': 'tool_call'}], usage_metadata={'input_tokens': 189, 'output_tokens': 13, 'total_tokens': 202, 'input_token_details': {'audio': 0, 'cache_read': 0}, 'output_token_details': {'audio': 0, 'reasoning': 0}}), ToolMessage(content='Successfully transferred to generate_answer_agent', name='transfer_to_generate_answer_agent', id='5b60b99d-65b9-411b-80fe-b00dc0b67f24', tool_call_id='call_yynTSdk0imznuYdPx0VRxJLI'), AIMessage(content=\"Women have played an increasingly significant role in cricket, both as players and leaders. Women's cricket has grown globally, with international tournaments, professional leagues, and greater media coverage. Female cricketers have become role models, advocating for gender equality and inspiring participation at all levels of the sport.\", additional_kwargs={'refusal': None}, response_metadata={'token_usage': {'completion_tokens': 58, 'prompt_tokens': 3104, 'total_tokens': 3162, 'completion_tokens_details': {'accepted_prediction_tokens': 0, 'audio_tokens': 0, 'reasoning_tokens': 0, 'rejected_prediction_tokens': 0}, 'prompt_tokens_details': {'audio_tokens': 0, 'cached_tokens': 2944}}, 'model_name': 'gpt-4.1-2025-04-14', 'system_fingerprint': 'fp_51e1070cf2', 'id': 'chatcmpl-BmwsChLMqMD7BIonSWgE2fbGw87sn', 'service_tier': 'default', 'finish_reason': 'stop', 'logprobs': None}, name='generate_answer_agent', id='run--7a18de2d-12c1-4d28-b918-305c26941ffd-0', usage_metadata={'input_tokens': 3104, 'output_tokens': 58, 'total_tokens': 3162, 'input_token_details': {'audio': 0, 'cache_read': 2944}, 'output_token_details': {'audio': 0, 'reasoning': 0}}), AIMessage(content='Transferring back to supervisor', additional_kwargs={}, response_metadata={'__is_handoff_back': True}, name='generate_answer_agent', id='37f10c1f-4e65-416e-95ee-b3800915972a', tool_calls=[{'name': 'transfer_back_to_supervisor', 'args': {}, 'id': '2abfa0f0-1b63-4a16-9e53-5bb6aac9b45a', 'type': 'tool_call'}]), ToolMessage(content='Successfully transferred back to supervisor', name='transfer_back_to_supervisor', id='2e7f5dd6-bbb1-4ac7-8a92-55585a74bc61', tool_call_id='2abfa0f0-1b63-4a16-9e53-5bb6aac9b45a')]}}\n",
            "{'supervisor': {'messages': [HumanMessage(content='Role of women in cricket', additional_kwargs={}, response_metadata={}, id='1ad54e54-b48e-4476-bfd4-af403387759f'), AIMessage(content='', additional_kwargs={'tool_calls': [{'id': 'call_yynTSdk0imznuYdPx0VRxJLI', 'function': {'arguments': '{}', 'name': 'transfer_to_generate_answer_agent'}, 'type': 'function'}], 'refusal': None}, response_metadata={'token_usage': {'completion_tokens': 13, 'prompt_tokens': 189, 'total_tokens': 202, 'completion_tokens_details': {'accepted_prediction_tokens': 0, 'audio_tokens': 0, 'reasoning_tokens': 0, 'rejected_prediction_tokens': 0}, 'prompt_tokens_details': {'audio_tokens': 0, 'cached_tokens': 0}}, 'model_name': 'gpt-4o-2024-08-06', 'system_fingerprint': 'fp_a288987b44', 'id': 'chatcmpl-BmwsAUIMqoo0hWiw4SXtpoepaeLzy', 'service_tier': 'default', 'finish_reason': 'tool_calls', 'logprobs': None}, name='supervisor', id='run--2c61d686-8055-4af2-aa94-c14ff747cee3-0', tool_calls=[{'name': 'transfer_to_generate_answer_agent', 'args': {}, 'id': 'call_yynTSdk0imznuYdPx0VRxJLI', 'type': 'tool_call'}], usage_metadata={'input_tokens': 189, 'output_tokens': 13, 'total_tokens': 202, 'input_token_details': {'audio': 0, 'cache_read': 0}, 'output_token_details': {'audio': 0, 'reasoning': 0}}), ToolMessage(content='Successfully transferred to generate_answer_agent', name='transfer_to_generate_answer_agent', id='5b60b99d-65b9-411b-80fe-b00dc0b67f24', tool_call_id='call_yynTSdk0imznuYdPx0VRxJLI'), AIMessage(content=\"Women have played an increasingly significant role in cricket, both as players and leaders. Women's cricket has grown globally, with international tournaments, professional leagues, and greater media coverage. Female cricketers have become role models, advocating for gender equality and inspiring participation at all levels of the sport.\", additional_kwargs={'refusal': None}, response_metadata={'token_usage': {'completion_tokens': 58, 'prompt_tokens': 3104, 'total_tokens': 3162, 'completion_tokens_details': {'accepted_prediction_tokens': 0, 'audio_tokens': 0, 'reasoning_tokens': 0, 'rejected_prediction_tokens': 0}, 'prompt_tokens_details': {'audio_tokens': 0, 'cached_tokens': 2944}}, 'model_name': 'gpt-4.1-2025-04-14', 'system_fingerprint': 'fp_51e1070cf2', 'id': 'chatcmpl-BmwsChLMqMD7BIonSWgE2fbGw87sn', 'service_tier': 'default', 'finish_reason': 'stop', 'logprobs': None}, name='generate_answer_agent', id='run--7a18de2d-12c1-4d28-b918-305c26941ffd-0', usage_metadata={'input_tokens': 3104, 'output_tokens': 58, 'total_tokens': 3162, 'input_token_details': {'audio': 0, 'cache_read': 2944}, 'output_token_details': {'audio': 0, 'reasoning': 0}}), AIMessage(content='Transferring back to supervisor', additional_kwargs={}, response_metadata={'__is_handoff_back': True}, name='generate_answer_agent', id='37f10c1f-4e65-416e-95ee-b3800915972a', tool_calls=[{'name': 'transfer_back_to_supervisor', 'args': {}, 'id': '2abfa0f0-1b63-4a16-9e53-5bb6aac9b45a', 'type': 'tool_call'}]), ToolMessage(content='Successfully transferred back to supervisor', name='transfer_back_to_supervisor', id='2e7f5dd6-bbb1-4ac7-8a92-55585a74bc61', tool_call_id='2abfa0f0-1b63-4a16-9e53-5bb6aac9b45a'), AIMessage(content=\"The role of women in cricket has expanded significantly, with increased participation, professional opportunities, and representation in leadership roles, contributing to the sport's growth and promoting gender equality.\", additional_kwargs={'refusal': None}, response_metadata={'token_usage': {'completion_tokens': 35, 'prompt_tokens': 334, 'total_tokens': 369, 'completion_tokens_details': {'accepted_prediction_tokens': 0, 'audio_tokens': 0, 'reasoning_tokens': 0, 'rejected_prediction_tokens': 0}, 'prompt_tokens_details': {'audio_tokens': 0, 'cached_tokens': 0}}, 'model_name': 'gpt-4o-2024-08-06', 'system_fingerprint': 'fp_a288987b44', 'id': 'chatcmpl-BmwsD5517xMHEzY67t0bJxipjxQMT', 'service_tier': 'default', 'finish_reason': 'stop', 'logprobs': None}, name='supervisor', id='run--29f8edea-7374-4593-be04-13aa858608a3-0', usage_metadata={'input_tokens': 334, 'output_tokens': 35, 'total_tokens': 369, 'input_token_details': {'audio': 0, 'cache_read': 0}, 'output_token_details': {'audio': 0, 'reasoning': 0}})]}}\n"
          ]
        }
      ]
    },
    {
      "cell_type": "code",
      "source": [
        "for message in final_message_history:\n",
        "    message.pretty_print()"
      ],
      "metadata": {
        "colab": {
          "base_uri": "https://localhost:8080/"
        },
        "id": "WLS9TlClE31c",
        "outputId": "e36e66f0-7769-4e37-cda5-0563a8525144"
      },
      "execution_count": null,
      "outputs": [
        {
          "output_type": "stream",
          "name": "stdout",
          "text": [
            "================================\u001b[1m Human Message \u001b[0m=================================\n",
            "\n",
            "Role of women in cricket\n",
            "==================================\u001b[1m Ai Message \u001b[0m==================================\n",
            "Name: supervisor\n",
            "Tool Calls:\n",
            "  transfer_to_generate_answer_agent (call_yynTSdk0imznuYdPx0VRxJLI)\n",
            " Call ID: call_yynTSdk0imznuYdPx0VRxJLI\n",
            "  Args:\n",
            "=================================\u001b[1m Tool Message \u001b[0m=================================\n",
            "Name: transfer_to_generate_answer_agent\n",
            "\n",
            "Successfully transferred to generate_answer_agent\n",
            "==================================\u001b[1m Ai Message \u001b[0m==================================\n",
            "Name: generate_answer_agent\n",
            "\n",
            "Women have played an increasingly significant role in cricket, both as players and leaders. Women's cricket has grown globally, with international tournaments, professional leagues, and greater media coverage. Female cricketers have become role models, advocating for gender equality and inspiring participation at all levels of the sport.\n",
            "==================================\u001b[1m Ai Message \u001b[0m==================================\n",
            "Name: generate_answer_agent\n",
            "\n",
            "Transferring back to supervisor\n",
            "Tool Calls:\n",
            "  transfer_back_to_supervisor (2abfa0f0-1b63-4a16-9e53-5bb6aac9b45a)\n",
            " Call ID: 2abfa0f0-1b63-4a16-9e53-5bb6aac9b45a\n",
            "  Args:\n",
            "=================================\u001b[1m Tool Message \u001b[0m=================================\n",
            "Name: transfer_back_to_supervisor\n",
            "\n",
            "Successfully transferred back to supervisor\n",
            "==================================\u001b[1m Ai Message \u001b[0m==================================\n",
            "Name: supervisor\n",
            "\n",
            "The role of women in cricket has expanded significantly, with increased participation, professional opportunities, and representation in leadership roles, contributing to the sport's growth and promoting gender equality.\n"
          ]
        }
      ]
    },
    {
      "cell_type": "code",
      "source": [
        "for chunk in supervisor.stream(\n",
        "    {\n",
        "        \"messages\": [\n",
        "            {\n",
        "                \"role\": \"user\",\n",
        "                \"content\": \"Evolution of cricket in India\",\n",
        "            }\n",
        "        ]\n",
        "    },\n",
        "):\n",
        "    print(chunk)\n",
        "\n",
        "final_message_history = chunk[\"supervisor\"][\"messages\"]\n"
      ],
      "metadata": {
        "colab": {
          "base_uri": "https://localhost:8080/"
        },
        "id": "wlYSmPxKFCB8",
        "outputId": "eab699b9-3363-4abd-d28a-f6623e0bc619"
      },
      "execution_count": null,
      "outputs": [
        {
          "output_type": "stream",
          "name": "stdout",
          "text": [
            "{'supervisor': {'messages': [HumanMessage(content='Evolution of cricket in India', additional_kwargs={}, response_metadata={}, id='a7a83024-e515-4902-92b6-c8a2b365f391'), AIMessage(content='Please provide a specific question related to the topic \"Evolution of cricket in India\" so that I can assist you better.', additional_kwargs={'refusal': None}, response_metadata={'token_usage': {'completion_tokens': 25, 'prompt_tokens': 189, 'total_tokens': 214, 'completion_tokens_details': {'accepted_prediction_tokens': 0, 'audio_tokens': 0, 'reasoning_tokens': 0, 'rejected_prediction_tokens': 0}, 'prompt_tokens_details': {'audio_tokens': 0, 'cached_tokens': 0}}, 'model_name': 'gpt-4o-2024-08-06', 'system_fingerprint': 'fp_a288987b44', 'id': 'chatcmpl-BmwtNcaWjGM1Fg045yFXWYmaVnl3U', 'service_tier': 'default', 'finish_reason': 'stop', 'logprobs': None}, name='supervisor', id='run--ab8c9163-b8ed-4d35-8df5-0a31778a0eda-0', usage_metadata={'input_tokens': 189, 'output_tokens': 25, 'total_tokens': 214, 'input_token_details': {'audio': 0, 'cache_read': 0}, 'output_token_details': {'audio': 0, 'reasoning': 0}})]}}\n"
          ]
        }
      ]
    },
    {
      "cell_type": "code",
      "source": [
        "for message in final_message_history:\n",
        "    message.pretty_print()"
      ],
      "metadata": {
        "colab": {
          "base_uri": "https://localhost:8080/"
        },
        "id": "BGK04hoyFA18",
        "outputId": "3ec222fe-2a07-4d21-8027-24617557409f"
      },
      "execution_count": null,
      "outputs": [
        {
          "output_type": "stream",
          "name": "stdout",
          "text": [
            "================================\u001b[1m Human Message \u001b[0m=================================\n",
            "\n",
            "Evolution of cricket in India\n",
            "==================================\u001b[1m Ai Message \u001b[0m==================================\n",
            "Name: supervisor\n",
            "\n",
            "Please provide a specific question related to the topic \"Evolution of cricket in India\" so that I can assist you better.\n"
          ]
        }
      ]
    },
    {
      "cell_type": "code",
      "source": [
        "for chunk in supervisor.stream(\n",
        "    {\n",
        "        \"messages\": [\n",
        "            {\n",
        "                \"role\": \"user\",\n",
        "                \"content\": \"The origins of Indian cricket, that is, cricket played by Indians are to be found in Bombay.\",\n",
        "            }\n",
        "        ]\n",
        "    },\n",
        "):\n",
        "    print(chunk)\n",
        "\n",
        "final_message_history = chunk[\"supervisor\"][\"messages\"]\n"
      ],
      "metadata": {
        "colab": {
          "base_uri": "https://localhost:8080/"
        },
        "id": "6GES3fB4FNYF",
        "outputId": "30b9501f-fd73-4f1c-bdfc-9ee333b181db"
      },
      "execution_count": null,
      "outputs": [
        {
          "output_type": "stream",
          "name": "stdout",
          "text": [
            "{'supervisor': {'messages': [HumanMessage(content='The origins of Indian cricket, that is, cricket played by Indians are to be found in Bombay.', additional_kwargs={}, response_metadata={}, id='98062600-8c4a-4971-978e-2fc3ba37ef41'), AIMessage(content='What would you like to know about the origins of Indian cricket?', additional_kwargs={'refusal': None}, response_metadata={'token_usage': {'completion_tokens': 14, 'prompt_tokens': 204, 'total_tokens': 218, 'completion_tokens_details': {'accepted_prediction_tokens': 0, 'audio_tokens': 0, 'reasoning_tokens': 0, 'rejected_prediction_tokens': 0}, 'prompt_tokens_details': {'audio_tokens': 0, 'cached_tokens': 0}}, 'model_name': 'gpt-4o-2024-08-06', 'system_fingerprint': 'fp_a288987b44', 'id': 'chatcmpl-BmwuEBOCi0OWqCR0RztBMdQGbUlCP', 'service_tier': 'default', 'finish_reason': 'stop', 'logprobs': None}, name='supervisor', id='run--fb95d560-53cc-417e-b52e-31c535613cd6-0', usage_metadata={'input_tokens': 204, 'output_tokens': 14, 'total_tokens': 218, 'input_token_details': {'audio': 0, 'cache_read': 0}, 'output_token_details': {'audio': 0, 'reasoning': 0}})]}}\n"
          ]
        }
      ]
    },
    {
      "cell_type": "code",
      "source": [
        "for message in final_message_history:\n",
        "    message.pretty_print()"
      ],
      "metadata": {
        "colab": {
          "base_uri": "https://localhost:8080/"
        },
        "id": "Bm1pcUnoFXR3",
        "outputId": "2e572e88-a7ce-487f-8b79-c46fc0fd37f1"
      },
      "execution_count": null,
      "outputs": [
        {
          "output_type": "stream",
          "name": "stdout",
          "text": [
            "================================\u001b[1m Human Message \u001b[0m=================================\n",
            "\n",
            "The origins of Indian cricket, that is, cricket played by Indians are to be found in Bombay.\n",
            "==================================\u001b[1m Ai Message \u001b[0m==================================\n",
            "Name: supervisor\n",
            "\n",
            "What would you like to know about the origins of Indian cricket?\n"
          ]
        }
      ]
    },
    {
      "cell_type": "code",
      "source": [
        "from IPython.display import display, Image\n",
        "\n",
        "display(Image(supervisor.get_graph().draw_mermaid_png()))"
      ],
      "metadata": {
        "id": "twmGHzUx8cMD",
        "colab": {
          "base_uri": "https://localhost:8080/",
          "height": 266
        },
        "outputId": "0f04aa79-7dcb-4e17-cc3e-1ea52048c4b0"
      },
      "execution_count": null,
      "outputs": [
        {
          "output_type": "display_data",
          "data": {
            "image/png": "[encoded data removed]",
            "text/plain": [
              "<IPython.core.display.Image object>"
            ]
          },
          "metadata": {}
        }
      ]
    },
    {
      "cell_type": "code",
      "source": [
        "from langgraph.graph import StateGraph, START, END\n",
        "from langgraph.prebuilt import ToolNode, tools_condition\n",
        "workflow = StateGraph(MessagesState)\n",
        "workflow.add_node(generate_query_or_respond)\n",
        "workflow.add_node(\"supervisor\", supervisor)\n",
        "workflow.add_node(\"retrieve\", retriever_tool)\n",
        "workflow.add_node(\"rewrite_question\", rewrite_question)\n",
        "workflow.add_node(\"generate_answer\", generate_answer)\n",
        "workflow.add_node(\"ignore_question\", ignore_question)\n",
        "workflow.add_edge(START, \"generate_query_or_respond\")\n",
        "workflow.add_edge(\"generate_query_or_respond\",\"supervisor\")\n",
        "workflow.add_edge(\"supervisor\", \"retrieve\")\n",
        "workflow.add_edge(\"supervisor\", \"retrieve\")\n",
        "workflow.add_edge(\"retrieve\", \"rewrite_question\")\n",
        "workflow.add_edge(\"retrieve\", \"generate_answer\")\n",
        "workflow.add_edge(\"supervisor\", \"ignore_question\")\n",
        "workflow.add_edge(\"rewrite_question\",\"supervisor\")\n",
        "workflow.add_edge(\"generate_answer\", \"supervisor\")\n",
        "workflow.add_edge(\"ignore_question\",\"supervisor\")\n",
        "workflow.add_edge(\"rewrite_question\", \"generate_query_or_respond\")\n",
        "workflow.add_edge(\"generate_answer\", END)\n",
        "workflow.add_edge(\"ignore_question\", END)\n",
        "workflow.add_edge(\"supervisor\", END)\n",
        "graph = workflow.compile()\n"
      ],
      "metadata": {
        "id": "M1teHMVUI0i3"
      },
      "execution_count": null,
      "outputs": []
    },
    {
      "cell_type": "code",
      "source": [
        "from IPython.display import Image, display\n",
        "\n",
        "display(Image(graph.get_graph().draw_mermaid_png()))"
      ],
      "metadata": {
        "colab": {
          "base_uri": "https://localhost:8080/",
          "height": 464
        },
        "id": "BaFxKLuwIs9p",
        "outputId": "1c3403b7-fbd3-4a19-f58a-f381745ea8ba"
      },
      "execution_count": null,
      "outputs": [
        {
          "output_type": "display_data",
          "data": {
            "image/png": "[encoded data removed]",
            "text/plain": [
              "<IPython.core.display.Image object>"
            ]
          },
          "metadata": {}
        }
      ]
    },
    {
      "cell_type": "code",
      "source": [
        "for chunk in supervisor.stream(\n",
        "    {\n",
        "        \"messages\": [\n",
        "            {\n",
        "                \"role\": \"user\",\n",
        "                \"content\": \"Where is Tamil Nadu? What was Mahatma Gandhi's opinion on cricket?\",\n",
        "            }\n",
        "        ]\n",
        "    },\n",
        "):\n",
        "    print(chunk)\n",
        "\n",
        "final_message_history = chunk[\"supervisor\"][\"messages\"]\n"
      ],
      "metadata": {
        "colab": {
          "base_uri": "https://localhost:8080/"
        },
        "id": "c050adirLVJ0",
        "outputId": "351cfece-9c37-4fa2-d0dd-f9883253c91b"
      },
      "execution_count": null,
      "outputs": [
        {
          "output_type": "stream",
          "name": "stderr",
          "text": [
            "WARNING:langgraph:Task supervisor with path ('__pregel_pull', 'supervisor') wrote to unknown channel is_last_step, ignoring it.\n",
            "WARNING:langgraph:Task supervisor with path ('__pregel_pull', 'supervisor') wrote to unknown channel remaining_steps, ignoring it.\n"
          ]
        },
        {
          "output_type": "stream",
          "name": "stdout",
          "text": [
            "{'supervisor': {'messages': [HumanMessage(content=\"Where is Tamil Nadu? What was Mahatma Gandhi's opinion on cricket?\", additional_kwargs={}, response_metadata={}, id='4fe2f886-c243-49ae-a80a-e94eb0ce74be'), AIMessage(content='', additional_kwargs={'tool_calls': [{'id': 'call_EtjwAdHytMk7cyEhX0xGD9Ou', 'function': {'arguments': '{}', 'name': 'transfer_to_ignore_question_agent'}, 'type': 'function'}], 'refusal': None}, response_metadata={'token_usage': {'completion_tokens': 13, 'prompt_tokens': 199, 'total_tokens': 212, 'completion_tokens_details': {'accepted_prediction_tokens': 0, 'audio_tokens': 0, 'reasoning_tokens': 0, 'rejected_prediction_tokens': 0}, 'prompt_tokens_details': {'audio_tokens': 0, 'cached_tokens': 0}}, 'model_name': 'gpt-4o-2024-08-06', 'system_fingerprint': 'fp_a288987b44', 'id': 'chatcmpl-BmxKKrtO6zpigcoegyPoysFpfPRGy', 'service_tier': 'default', 'finish_reason': 'tool_calls', 'logprobs': None}, name='supervisor', id='run--dcf4aa3a-5149-4da5-8f94-4edb6615b1dc-0', tool_calls=[{'name': 'transfer_to_ignore_question_agent', 'args': {}, 'id': 'call_EtjwAdHytMk7cyEhX0xGD9Ou', 'type': 'tool_call'}], usage_metadata={'input_tokens': 199, 'output_tokens': 13, 'total_tokens': 212, 'input_token_details': {'audio': 0, 'cache_read': 0}, 'output_token_details': {'audio': 0, 'reasoning': 0}}), ToolMessage(content='Successfully transferred to ignore_question_agent', name='transfer_to_ignore_question_agent', id='3eb7b797-10af-40b3-9428-0048bd201811', tool_call_id='call_EtjwAdHytMk7cyEhX0xGD9Ou')]}}\n",
            "{'ignore_question_agent': {'messages': [HumanMessage(content=\"Where is Tamil Nadu? What was Mahatma Gandhi's opinion on cricket?\", additional_kwargs={}, response_metadata={}, id='4fe2f886-c243-49ae-a80a-e94eb0ce74be'), AIMessage(content='', additional_kwargs={'tool_calls': [{'id': 'call_EtjwAdHytMk7cyEhX0xGD9Ou', 'function': {'arguments': '{}', 'name': 'transfer_to_ignore_question_agent'}, 'type': 'function'}], 'refusal': None}, response_metadata={'token_usage': {'completion_tokens': 13, 'prompt_tokens': 199, 'total_tokens': 212, 'completion_tokens_details': {'accepted_prediction_tokens': 0, 'audio_tokens': 0, 'reasoning_tokens': 0, 'rejected_prediction_tokens': 0}, 'prompt_tokens_details': {'audio_tokens': 0, 'cached_tokens': 0}}, 'model_name': 'gpt-4o-2024-08-06', 'system_fingerprint': 'fp_a288987b44', 'id': 'chatcmpl-BmxKKrtO6zpigcoegyPoysFpfPRGy', 'service_tier': 'default', 'finish_reason': 'tool_calls', 'logprobs': None}, name='supervisor', id='run--dcf4aa3a-5149-4da5-8f94-4edb6615b1dc-0', tool_calls=[{'name': 'transfer_to_ignore_question_agent', 'args': {}, 'id': 'call_EtjwAdHytMk7cyEhX0xGD9Ou', 'type': 'tool_call'}], usage_metadata={'input_tokens': 199, 'output_tokens': 13, 'total_tokens': 212, 'input_token_details': {'audio': 0, 'cache_read': 0}, 'output_token_details': {'audio': 0, 'reasoning': 0}}), ToolMessage(content='Successfully transferred to ignore_question_agent', name='transfer_to_ignore_question_agent', id='3eb7b797-10af-40b3-9428-0048bd201811', tool_call_id='call_EtjwAdHytMk7cyEhX0xGD9Ou'), AIMessage(content='The question is not related to the document provided.', additional_kwargs={'refusal': None}, response_metadata={'token_usage': {'completion_tokens': 11, 'prompt_tokens': 3115, 'total_tokens': 3126, 'completion_tokens_details': {'accepted_prediction_tokens': 0, 'audio_tokens': 0, 'reasoning_tokens': 0, 'rejected_prediction_tokens': 0}, 'prompt_tokens_details': {'audio_tokens': 0, 'cached_tokens': 0}}, 'model_name': 'gpt-4.1-2025-04-14', 'system_fingerprint': 'fp_51e1070cf2', 'id': 'chatcmpl-BmxKLBRsvYJpGYDGEginLqneR5omu', 'service_tier': 'default', 'finish_reason': 'stop', 'logprobs': None}, name='ignore_question_agent', id='run--d5496778-4702-4b82-ae72-db4c20277636-0', usage_metadata={'input_tokens': 3115, 'output_tokens': 11, 'total_tokens': 3126, 'input_token_details': {'audio': 0, 'cache_read': 0}, 'output_token_details': {'audio': 0, 'reasoning': 0}}), AIMessage(content='Transferring back to supervisor', additional_kwargs={}, response_metadata={'__is_handoff_back': True}, name='ignore_question_agent', id='8784bb25-db96-444f-928f-e15ef28ac7c9', tool_calls=[{'name': 'transfer_back_to_supervisor', 'args': {}, 'id': 'c0a7b5c1-3af1-492f-a60c-104ec23d5e80', 'type': 'tool_call'}]), ToolMessage(content='Successfully transferred back to supervisor', name='transfer_back_to_supervisor', id='d3fe7a59-45a7-4248-9fa8-cb52984e7198', tool_call_id='c0a7b5c1-3af1-492f-a60c-104ec23d5e80')]}}\n",
            "{'supervisor': {'messages': [HumanMessage(content=\"Where is Tamil Nadu? What was Mahatma Gandhi's opinion on cricket?\", additional_kwargs={}, response_metadata={}, id='4fe2f886-c243-49ae-a80a-e94eb0ce74be'), AIMessage(content='', additional_kwargs={'tool_calls': [{'id': 'call_EtjwAdHytMk7cyEhX0xGD9Ou', 'function': {'arguments': '{}', 'name': 'transfer_to_ignore_question_agent'}, 'type': 'function'}], 'refusal': None}, response_metadata={'token_usage': {'completion_tokens': 13, 'prompt_tokens': 199, 'total_tokens': 212, 'completion_tokens_details': {'accepted_prediction_tokens': 0, 'audio_tokens': 0, 'reasoning_tokens': 0, 'rejected_prediction_tokens': 0}, 'prompt_tokens_details': {'audio_tokens': 0, 'cached_tokens': 0}}, 'model_name': 'gpt-4o-2024-08-06', 'system_fingerprint': 'fp_a288987b44', 'id': 'chatcmpl-BmxKKrtO6zpigcoegyPoysFpfPRGy', 'service_tier': 'default', 'finish_reason': 'tool_calls', 'logprobs': None}, name='supervisor', id='run--dcf4aa3a-5149-4da5-8f94-4edb6615b1dc-0', tool_calls=[{'name': 'transfer_to_ignore_question_agent', 'args': {}, 'id': 'call_EtjwAdHytMk7cyEhX0xGD9Ou', 'type': 'tool_call'}], usage_metadata={'input_tokens': 199, 'output_tokens': 13, 'total_tokens': 212, 'input_token_details': {'audio': 0, 'cache_read': 0}, 'output_token_details': {'audio': 0, 'reasoning': 0}}), ToolMessage(content='Successfully transferred to ignore_question_agent', name='transfer_to_ignore_question_agent', id='3eb7b797-10af-40b3-9428-0048bd201811', tool_call_id='call_EtjwAdHytMk7cyEhX0xGD9Ou'), AIMessage(content='The question is not related to the document provided.', additional_kwargs={'refusal': None}, response_metadata={'token_usage': {'completion_tokens': 11, 'prompt_tokens': 3115, 'total_tokens': 3126, 'completion_tokens_details': {'accepted_prediction_tokens': 0, 'audio_tokens': 0, 'reasoning_tokens': 0, 'rejected_prediction_tokens': 0}, 'prompt_tokens_details': {'audio_tokens': 0, 'cached_tokens': 0}}, 'model_name': 'gpt-4.1-2025-04-14', 'system_fingerprint': 'fp_51e1070cf2', 'id': 'chatcmpl-BmxKLBRsvYJpGYDGEginLqneR5omu', 'service_tier': 'default', 'finish_reason': 'stop', 'logprobs': None}, name='ignore_question_agent', id='run--d5496778-4702-4b82-ae72-db4c20277636-0', usage_metadata={'input_tokens': 3115, 'output_tokens': 11, 'total_tokens': 3126, 'input_token_details': {'audio': 0, 'cache_read': 0}, 'output_token_details': {'audio': 0, 'reasoning': 0}}), AIMessage(content='Transferring back to supervisor', additional_kwargs={}, response_metadata={'__is_handoff_back': True}, name='ignore_question_agent', id='8784bb25-db96-444f-928f-e15ef28ac7c9', tool_calls=[{'name': 'transfer_back_to_supervisor', 'args': {}, 'id': 'c0a7b5c1-3af1-492f-a60c-104ec23d5e80', 'type': 'tool_call'}]), ToolMessage(content='Successfully transferred back to supervisor', name='transfer_back_to_supervisor', id='d3fe7a59-45a7-4248-9fa8-cb52984e7198', tool_call_id='c0a7b5c1-3af1-492f-a60c-104ec23d5e80'), AIMessage(content=\"The question about Mahatma Gandhi's opinion on cricket is not related to the document. Please ask a question related to the document.\", additional_kwargs={'refusal': None}, response_metadata={'token_usage': {'completion_tokens': 27, 'prompt_tokens': 297, 'total_tokens': 324, 'completion_tokens_details': {'accepted_prediction_tokens': 0, 'audio_tokens': 0, 'reasoning_tokens': 0, 'rejected_prediction_tokens': 0}, 'prompt_tokens_details': {'audio_tokens': 0, 'cached_tokens': 0}}, 'model_name': 'gpt-4o-2024-08-06', 'system_fingerprint': 'fp_a288987b44', 'id': 'chatcmpl-BmxKQdG36hbAxKhjrKx6DagWbZ4wX', 'service_tier': 'default', 'finish_reason': 'stop', 'logprobs': None}, name='supervisor', id='run--35a688cf-476e-4069-ad66-476c2079ff3a-0', usage_metadata={'input_tokens': 297, 'output_tokens': 27, 'total_tokens': 324, 'input_token_details': {'audio': 0, 'cache_read': 0}, 'output_token_details': {'audio': 0, 'reasoning': 0}})]}}\n"
          ]
        }
      ]
    },
    {
      "cell_type": "code",
      "source": [
        "for message in final_message_history:\n",
        "    message.pretty_print()"
      ],
      "metadata": {
        "colab": {
          "base_uri": "https://localhost:8080/"
        },
        "id": "5iJROFlPLjbS",
        "outputId": "e0d32a08-4f2f-454d-8805-68b1c9a64e95"
      },
      "execution_count": null,
      "outputs": [
        {
          "output_type": "stream",
          "name": "stdout",
          "text": [
            "================================\u001b[1m Human Message \u001b[0m=================================\n",
            "\n",
            "Where is Tamil Nadu? What was Mahatma Gandhi's opinion on cricket?\n",
            "==================================\u001b[1m Ai Message \u001b[0m==================================\n",
            "Name: supervisor\n",
            "Tool Calls:\n",
            "  transfer_to_ignore_question_agent (call_EtjwAdHytMk7cyEhX0xGD9Ou)\n",
            " Call ID: call_EtjwAdHytMk7cyEhX0xGD9Ou\n",
            "  Args:\n",
            "=================================\u001b[1m Tool Message \u001b[0m=================================\n",
            "Name: transfer_to_ignore_question_agent\n",
            "\n",
            "Successfully transferred to ignore_question_agent\n",
            "==================================\u001b[1m Ai Message \u001b[0m==================================\n",
            "Name: ignore_question_agent\n",
            "\n",
            "The question is not related to the document provided.\n",
            "==================================\u001b[1m Ai Message \u001b[0m==================================\n",
            "Name: ignore_question_agent\n",
            "\n",
            "Transferring back to supervisor\n",
            "Tool Calls:\n",
            "  transfer_back_to_supervisor (c0a7b5c1-3af1-492f-a60c-104ec23d5e80)\n",
            " Call ID: c0a7b5c1-3af1-492f-a60c-104ec23d5e80\n",
            "  Args:\n",
            "=================================\u001b[1m Tool Message \u001b[0m=================================\n",
            "Name: transfer_back_to_supervisor\n",
            "\n",
            "Successfully transferred back to supervisor\n",
            "==================================\u001b[1m Ai Message \u001b[0m==================================\n",
            "Name: supervisor\n",
            "\n",
            "The question about Mahatma Gandhi's opinion on cricket is not related to the document. Please ask a question related to the document.\n"
          ]
        }
      ]
    },
    {
      "cell_type": "code",
      "source": [
        "for chunk in supervisor.stream(\n",
        "    {\n",
        "        \"messages\": [\n",
        "            {\n",
        "                \"role\": \"user\",\n",
        "                \"content\": \"Where is Tamil Nadu? Events that led to the spread of cricket?\",\n",
        "            }\n",
        "        ]\n",
        "    },\n",
        "):\n",
        "    print(chunk)\n",
        "\n",
        "final_message_history = chunk[\"supervisor\"][\"messages\"]\n"
      ],
      "metadata": {
        "colab": {
          "base_uri": "https://localhost:8080/"
        },
        "id": "mBNQOds3LrWG",
        "outputId": "e78fb6f4-16c0-47a4-d86d-a098b5ddab46"
      },
      "execution_count": null,
      "outputs": [
        {
          "output_type": "stream",
          "name": "stderr",
          "text": [
            "WARNING:langgraph:Task supervisor with path ('__pregel_pull', 'supervisor') wrote to unknown channel is_last_step, ignoring it.\n",
            "WARNING:langgraph:Task supervisor with path ('__pregel_pull', 'supervisor') wrote to unknown channel remaining_steps, ignoring it.\n"
          ]
        },
        {
          "output_type": "stream",
          "name": "stdout",
          "text": [
            "{'supervisor': {'messages': [HumanMessage(content='Where is Tamil Nadu? Events that led to the spread of cricket?', additional_kwargs={}, response_metadata={}, id='deac6ee9-c654-4147-aedc-2a4e5194d7c6'), AIMessage(content='', additional_kwargs={'tool_calls': [{'id': 'call_x7zHdJq1R3PoStBnWMsz4egu', 'function': {'arguments': '{}', 'name': 'transfer_to_ignore_question_agent'}, 'type': 'function'}], 'refusal': None}, response_metadata={'token_usage': {'completion_tokens': 13, 'prompt_tokens': 198, 'total_tokens': 211, 'completion_tokens_details': {'accepted_prediction_tokens': 0, 'audio_tokens': 0, 'reasoning_tokens': 0, 'rejected_prediction_tokens': 0}, 'prompt_tokens_details': {'audio_tokens': 0, 'cached_tokens': 0}}, 'model_name': 'gpt-4o-2024-08-06', 'system_fingerprint': 'fp_a288987b44', 'id': 'chatcmpl-BmxLPeBucu9NnCAxcp5mML3xaySyU', 'service_tier': 'default', 'finish_reason': 'tool_calls', 'logprobs': None}, name='supervisor', id='run--7a122e05-7f65-400f-8cf4-19600d4ebb8c-0', tool_calls=[{'name': 'transfer_to_ignore_question_agent', 'args': {}, 'id': 'call_x7zHdJq1R3PoStBnWMsz4egu', 'type': 'tool_call'}], usage_metadata={'input_tokens': 198, 'output_tokens': 13, 'total_tokens': 211, 'input_token_details': {'audio': 0, 'cache_read': 0}, 'output_token_details': {'audio': 0, 'reasoning': 0}}), ToolMessage(content='Successfully transferred to ignore_question_agent', name='transfer_to_ignore_question_agent', id='e8ba2440-8477-4172-873b-bb4329ff6660', tool_call_id='call_x7zHdJq1R3PoStBnWMsz4egu')]}}\n",
            "{'ignore_question_agent': {'messages': [HumanMessage(content='Where is Tamil Nadu? Events that led to the spread of cricket?', additional_kwargs={}, response_metadata={}, id='deac6ee9-c654-4147-aedc-2a4e5194d7c6'), AIMessage(content='', additional_kwargs={'tool_calls': [{'id': 'call_x7zHdJq1R3PoStBnWMsz4egu', 'function': {'arguments': '{}', 'name': 'transfer_to_ignore_question_agent'}, 'type': 'function'}], 'refusal': None}, response_metadata={'token_usage': {'completion_tokens': 13, 'prompt_tokens': 198, 'total_tokens': 211, 'completion_tokens_details': {'accepted_prediction_tokens': 0, 'audio_tokens': 0, 'reasoning_tokens': 0, 'rejected_prediction_tokens': 0}, 'prompt_tokens_details': {'audio_tokens': 0, 'cached_tokens': 0}}, 'model_name': 'gpt-4o-2024-08-06', 'system_fingerprint': 'fp_a288987b44', 'id': 'chatcmpl-BmxLPeBucu9NnCAxcp5mML3xaySyU', 'service_tier': 'default', 'finish_reason': 'tool_calls', 'logprobs': None}, name='supervisor', id='run--7a122e05-7f65-400f-8cf4-19600d4ebb8c-0', tool_calls=[{'name': 'transfer_to_ignore_question_agent', 'args': {}, 'id': 'call_x7zHdJq1R3PoStBnWMsz4egu', 'type': 'tool_call'}], usage_metadata={'input_tokens': 198, 'output_tokens': 13, 'total_tokens': 211, 'input_token_details': {'audio': 0, 'cache_read': 0}, 'output_token_details': {'audio': 0, 'reasoning': 0}}), ToolMessage(content='Successfully transferred to ignore_question_agent', name='transfer_to_ignore_question_agent', id='e8ba2440-8477-4172-873b-bb4329ff6660', tool_call_id='call_x7zHdJq1R3PoStBnWMsz4egu'), AIMessage(content='The question is not related to the document provided.', additional_kwargs={'refusal': None}, response_metadata={'token_usage': {'completion_tokens': 11, 'prompt_tokens': 3114, 'total_tokens': 3125, 'completion_tokens_details': {'accepted_prediction_tokens': 0, 'audio_tokens': 0, 'reasoning_tokens': 0, 'rejected_prediction_tokens': 0}, 'prompt_tokens_details': {'audio_tokens': 0, 'cached_tokens': 0}}, 'model_name': 'gpt-4.1-2025-04-14', 'system_fingerprint': 'fp_799e4ca3f1', 'id': 'chatcmpl-BmxLQXeOzwHSvqDHHG0upPQLruJlu', 'service_tier': 'default', 'finish_reason': 'stop', 'logprobs': None}, name='ignore_question_agent', id='run--87d1bd6c-9498-42b4-b3ba-d3ad61de259a-0', usage_metadata={'input_tokens': 3114, 'output_tokens': 11, 'total_tokens': 3125, 'input_token_details': {'audio': 0, 'cache_read': 0}, 'output_token_details': {'audio': 0, 'reasoning': 0}}), AIMessage(content='Transferring back to supervisor', additional_kwargs={}, response_metadata={'__is_handoff_back': True}, name='ignore_question_agent', id='84a6aa9e-70fc-47ef-aa3d-39962c939273', tool_calls=[{'name': 'transfer_back_to_supervisor', 'args': {}, 'id': 'e13fc7b2-5d37-4bbe-a8eb-f989e886942b', 'type': 'tool_call'}]), ToolMessage(content='Successfully transferred back to supervisor', name='transfer_back_to_supervisor', id='fb02b139-0060-4b1f-b739-af3a8b482542', tool_call_id='e13fc7b2-5d37-4bbe-a8eb-f989e886942b')]}}\n",
            "{'supervisor': {'messages': [HumanMessage(content='Where is Tamil Nadu? Events that led to the spread of cricket?', additional_kwargs={}, response_metadata={}, id='deac6ee9-c654-4147-aedc-2a4e5194d7c6'), AIMessage(content='', additional_kwargs={'tool_calls': [{'id': 'call_x7zHdJq1R3PoStBnWMsz4egu', 'function': {'arguments': '{}', 'name': 'transfer_to_ignore_question_agent'}, 'type': 'function'}], 'refusal': None}, response_metadata={'token_usage': {'completion_tokens': 13, 'prompt_tokens': 198, 'total_tokens': 211, 'completion_tokens_details': {'accepted_prediction_tokens': 0, 'audio_tokens': 0, 'reasoning_tokens': 0, 'rejected_prediction_tokens': 0}, 'prompt_tokens_details': {'audio_tokens': 0, 'cached_tokens': 0}}, 'model_name': 'gpt-4o-2024-08-06', 'system_fingerprint': 'fp_a288987b44', 'id': 'chatcmpl-BmxLPeBucu9NnCAxcp5mML3xaySyU', 'service_tier': 'default', 'finish_reason': 'tool_calls', 'logprobs': None}, name='supervisor', id='run--7a122e05-7f65-400f-8cf4-19600d4ebb8c-0', tool_calls=[{'name': 'transfer_to_ignore_question_agent', 'args': {}, 'id': 'call_x7zHdJq1R3PoStBnWMsz4egu', 'type': 'tool_call'}], usage_metadata={'input_tokens': 198, 'output_tokens': 13, 'total_tokens': 211, 'input_token_details': {'audio': 0, 'cache_read': 0}, 'output_token_details': {'audio': 0, 'reasoning': 0}}), ToolMessage(content='Successfully transferred to ignore_question_agent', name='transfer_to_ignore_question_agent', id='e8ba2440-8477-4172-873b-bb4329ff6660', tool_call_id='call_x7zHdJq1R3PoStBnWMsz4egu'), AIMessage(content='The question is not related to the document provided.', additional_kwargs={'refusal': None}, response_metadata={'token_usage': {'completion_tokens': 11, 'prompt_tokens': 3114, 'total_tokens': 3125, 'completion_tokens_details': {'accepted_prediction_tokens': 0, 'audio_tokens': 0, 'reasoning_tokens': 0, 'rejected_prediction_tokens': 0}, 'prompt_tokens_details': {'audio_tokens': 0, 'cached_tokens': 0}}, 'model_name': 'gpt-4.1-2025-04-14', 'system_fingerprint': 'fp_799e4ca3f1', 'id': 'chatcmpl-BmxLQXeOzwHSvqDHHG0upPQLruJlu', 'service_tier': 'default', 'finish_reason': 'stop', 'logprobs': None}, name='ignore_question_agent', id='run--87d1bd6c-9498-42b4-b3ba-d3ad61de259a-0', usage_metadata={'input_tokens': 3114, 'output_tokens': 11, 'total_tokens': 3125, 'input_token_details': {'audio': 0, 'cache_read': 0}, 'output_token_details': {'audio': 0, 'reasoning': 0}}), AIMessage(content='Transferring back to supervisor', additional_kwargs={}, response_metadata={'__is_handoff_back': True}, name='ignore_question_agent', id='84a6aa9e-70fc-47ef-aa3d-39962c939273', tool_calls=[{'name': 'transfer_back_to_supervisor', 'args': {}, 'id': 'e13fc7b2-5d37-4bbe-a8eb-f989e886942b', 'type': 'tool_call'}]), ToolMessage(content='Successfully transferred back to supervisor', name='transfer_back_to_supervisor', id='fb02b139-0060-4b1f-b739-af3a8b482542', tool_call_id='e13fc7b2-5d37-4bbe-a8eb-f989e886942b'), AIMessage(content='The question was deemed not related to the document. If you have any other questions or need further assistance, feel free to ask!', additional_kwargs={'refusal': None}, response_metadata={'token_usage': {'completion_tokens': 27, 'prompt_tokens': 296, 'total_tokens': 323, 'completion_tokens_details': {'accepted_prediction_tokens': 0, 'audio_tokens': 0, 'reasoning_tokens': 0, 'rejected_prediction_tokens': 0}, 'prompt_tokens_details': {'audio_tokens': 0, 'cached_tokens': 0}}, 'model_name': 'gpt-4o-2024-08-06', 'system_fingerprint': 'fp_a288987b44', 'id': 'chatcmpl-BmxLRoNJaNW9FPCO6oxj9dxVRqPd2', 'service_tier': 'default', 'finish_reason': 'stop', 'logprobs': None}, name='supervisor', id='run--57660847-b92c-4092-ba0a-6b1c5b8401bf-0', usage_metadata={'input_tokens': 296, 'output_tokens': 27, 'total_tokens': 323, 'input_token_details': {'audio': 0, 'cache_read': 0}, 'output_token_details': {'audio': 0, 'reasoning': 0}})]}}\n"
          ]
        }
      ]
    },
    {
      "cell_type": "code",
      "source": [
        "for message in final_message_history:\n",
        "    message.pretty_print()"
      ],
      "metadata": {
        "colab": {
          "base_uri": "https://localhost:8080/"
        },
        "id": "Vgz_XidsLzol",
        "outputId": "bc8a599d-32fa-4f7e-b51b-310ee71fafc5"
      },
      "execution_count": null,
      "outputs": [
        {
          "output_type": "stream",
          "name": "stdout",
          "text": [
            "================================\u001b[1m Human Message \u001b[0m=================================\n",
            "\n",
            "Where is Tamil Nadu? Events that led to the spread of cricket?\n",
            "==================================\u001b[1m Ai Message \u001b[0m==================================\n",
            "Name: supervisor\n",
            "Tool Calls:\n",
            "  transfer_to_ignore_question_agent (call_x7zHdJq1R3PoStBnWMsz4egu)\n",
            " Call ID: call_x7zHdJq1R3PoStBnWMsz4egu\n",
            "  Args:\n",
            "=================================\u001b[1m Tool Message \u001b[0m=================================\n",
            "Name: transfer_to_ignore_question_agent\n",
            "\n",
            "Successfully transferred to ignore_question_agent\n",
            "==================================\u001b[1m Ai Message \u001b[0m==================================\n",
            "Name: ignore_question_agent\n",
            "\n",
            "The question is not related to the document provided.\n",
            "==================================\u001b[1m Ai Message \u001b[0m==================================\n",
            "Name: ignore_question_agent\n",
            "\n",
            "Transferring back to supervisor\n",
            "Tool Calls:\n",
            "  transfer_back_to_supervisor (e13fc7b2-5d37-4bbe-a8eb-f989e886942b)\n",
            " Call ID: e13fc7b2-5d37-4bbe-a8eb-f989e886942b\n",
            "  Args:\n",
            "=================================\u001b[1m Tool Message \u001b[0m=================================\n",
            "Name: transfer_back_to_supervisor\n",
            "\n",
            "Successfully transferred back to supervisor\n",
            "==================================\u001b[1m Ai Message \u001b[0m==================================\n",
            "Name: supervisor\n",
            "\n",
            "The question was deemed not related to the document. If you have any other questions or need further assistance, feel free to ask!\n"
          ]
        }
      ]
    },
    {
      "cell_type": "code",
      "source": [
        "for chunk in supervisor.stream(\n",
        "    {\n",
        "        \"messages\": [\n",
        "            {\n",
        "                \"role\": \"user\",\n",
        "                \"content\": \"Where is Tamil Nadu? Role of women in cricket\",\n",
        "            }\n",
        "        ]\n",
        "    },\n",
        "):\n",
        "    print(chunk)\n",
        "\n",
        "final_message_history = chunk[\"supervisor\"][\"messages\"]\n"
      ],
      "metadata": {
        "colab": {
          "base_uri": "https://localhost:8080/"
        },
        "id": "gAAWGtBIL_Dp",
        "outputId": "43894b4d-0527-47a2-b17e-e8aa3f10e917"
      },
      "execution_count": null,
      "outputs": [
        {
          "output_type": "stream",
          "name": "stderr",
          "text": [
            "WARNING:langgraph:Task supervisor with path ('__pregel_pull', 'supervisor') wrote to unknown channel is_last_step, ignoring it.\n",
            "WARNING:langgraph:Task supervisor with path ('__pregel_pull', 'supervisor') wrote to unknown channel remaining_steps, ignoring it.\n"
          ]
        },
        {
          "output_type": "stream",
          "name": "stdout",
          "text": [
            "{'supervisor': {'messages': [HumanMessage(content='Where is Tamil Nadu? Role of women in cricket', additional_kwargs={}, response_metadata={}, id='0f43e33c-0223-4e6c-8b69-dc508d2c3504'), AIMessage(content='', additional_kwargs={'tool_calls': [{'id': 'call_bL8eHLn0hSfw1d5yYizeN1Lu', 'function': {'arguments': '{}', 'name': 'transfer_to_ignore_question_agent'}, 'type': 'function'}], 'refusal': None}, response_metadata={'token_usage': {'completion_tokens': 13, 'prompt_tokens': 194, 'total_tokens': 207, 'completion_tokens_details': {'accepted_prediction_tokens': 0, 'audio_tokens': 0, 'reasoning_tokens': 0, 'rejected_prediction_tokens': 0}, 'prompt_tokens_details': {'audio_tokens': 0, 'cached_tokens': 0}}, 'model_name': 'gpt-4o-2024-08-06', 'system_fingerprint': 'fp_a288987b44', 'id': 'chatcmpl-BmxMX9RpZrnutzwj1o8hyPepPKVQs', 'service_tier': 'default', 'finish_reason': 'tool_calls', 'logprobs': None}, name='supervisor', id='run--2b83a554-0d0c-4b63-86d2-12a8437f3834-0', tool_calls=[{'name': 'transfer_to_ignore_question_agent', 'args': {}, 'id': 'call_bL8eHLn0hSfw1d5yYizeN1Lu', 'type': 'tool_call'}], usage_metadata={'input_tokens': 194, 'output_tokens': 13, 'total_tokens': 207, 'input_token_details': {'audio': 0, 'cache_read': 0}, 'output_token_details': {'audio': 0, 'reasoning': 0}}), ToolMessage(content='Successfully transferred to ignore_question_agent', name='transfer_to_ignore_question_agent', id='28daf583-fc81-4f9a-a434-fe7d08b059e4', tool_call_id='call_bL8eHLn0hSfw1d5yYizeN1Lu')]}}\n",
            "{'ignore_question_agent': {'messages': [HumanMessage(content='Where is Tamil Nadu? Role of women in cricket', additional_kwargs={}, response_metadata={}, id='0f43e33c-0223-4e6c-8b69-dc508d2c3504'), AIMessage(content='', additional_kwargs={'tool_calls': [{'id': 'call_bL8eHLn0hSfw1d5yYizeN1Lu', 'function': {'arguments': '{}', 'name': 'transfer_to_ignore_question_agent'}, 'type': 'function'}], 'refusal': None}, response_metadata={'token_usage': {'completion_tokens': 13, 'prompt_tokens': 194, 'total_tokens': 207, 'completion_tokens_details': {'accepted_prediction_tokens': 0, 'audio_tokens': 0, 'reasoning_tokens': 0, 'rejected_prediction_tokens': 0}, 'prompt_tokens_details': {'audio_tokens': 0, 'cached_tokens': 0}}, 'model_name': 'gpt-4o-2024-08-06', 'system_fingerprint': 'fp_a288987b44', 'id': 'chatcmpl-BmxMX9RpZrnutzwj1o8hyPepPKVQs', 'service_tier': 'default', 'finish_reason': 'tool_calls', 'logprobs': None}, name='supervisor', id='run--2b83a554-0d0c-4b63-86d2-12a8437f3834-0', tool_calls=[{'name': 'transfer_to_ignore_question_agent', 'args': {}, 'id': 'call_bL8eHLn0hSfw1d5yYizeN1Lu', 'type': 'tool_call'}], usage_metadata={'input_tokens': 194, 'output_tokens': 13, 'total_tokens': 207, 'input_token_details': {'audio': 0, 'cache_read': 0}, 'output_token_details': {'audio': 0, 'reasoning': 0}}), ToolMessage(content='Successfully transferred to ignore_question_agent', name='transfer_to_ignore_question_agent', id='28daf583-fc81-4f9a-a434-fe7d08b059e4', tool_call_id='call_bL8eHLn0hSfw1d5yYizeN1Lu'), AIMessage(content='The question is not related to the document provided.', additional_kwargs={'refusal': None}, response_metadata={'token_usage': {'completion_tokens': 11, 'prompt_tokens': 3110, 'total_tokens': 3121, 'completion_tokens_details': {'accepted_prediction_tokens': 0, 'audio_tokens': 0, 'reasoning_tokens': 0, 'rejected_prediction_tokens': 0}, 'prompt_tokens_details': {'audio_tokens': 0, 'cached_tokens': 2944}}, 'model_name': 'gpt-4.1-2025-04-14', 'system_fingerprint': 'fp_799e4ca3f1', 'id': 'chatcmpl-BmxMXj971Y4q6Nk2gfd2rcy3NsjfF', 'service_tier': 'default', 'finish_reason': 'stop', 'logprobs': None}, name='ignore_question_agent', id='run--a586aff0-0c2d-4ca7-b6dc-be634b54b419-0', usage_metadata={'input_tokens': 3110, 'output_tokens': 11, 'total_tokens': 3121, 'input_token_details': {'audio': 0, 'cache_read': 2944}, 'output_token_details': {'audio': 0, 'reasoning': 0}}), AIMessage(content='Transferring back to supervisor', additional_kwargs={}, response_metadata={'__is_handoff_back': True}, name='ignore_question_agent', id='523a9725-430e-4fd0-82e1-eb7da96c8553', tool_calls=[{'name': 'transfer_back_to_supervisor', 'args': {}, 'id': '8a2c55af-953d-4ca8-b15f-09d01b6d34fb', 'type': 'tool_call'}]), ToolMessage(content='Successfully transferred back to supervisor', name='transfer_back_to_supervisor', id='3d15f154-80ef-4913-ad92-e8e288467644', tool_call_id='8a2c55af-953d-4ca8-b15f-09d01b6d34fb')]}}\n",
            "{'supervisor': {'messages': [HumanMessage(content='Where is Tamil Nadu? Role of women in cricket', additional_kwargs={}, response_metadata={}, id='0f43e33c-0223-4e6c-8b69-dc508d2c3504'), AIMessage(content='', additional_kwargs={'tool_calls': [{'id': 'call_bL8eHLn0hSfw1d5yYizeN1Lu', 'function': {'arguments': '{}', 'name': 'transfer_to_ignore_question_agent'}, 'type': 'function'}], 'refusal': None}, response_metadata={'token_usage': {'completion_tokens': 13, 'prompt_tokens': 194, 'total_tokens': 207, 'completion_tokens_details': {'accepted_prediction_tokens': 0, 'audio_tokens': 0, 'reasoning_tokens': 0, 'rejected_prediction_tokens': 0}, 'prompt_tokens_details': {'audio_tokens': 0, 'cached_tokens': 0}}, 'model_name': 'gpt-4o-2024-08-06', 'system_fingerprint': 'fp_a288987b44', 'id': 'chatcmpl-BmxMX9RpZrnutzwj1o8hyPepPKVQs', 'service_tier': 'default', 'finish_reason': 'tool_calls', 'logprobs': None}, name='supervisor', id='run--2b83a554-0d0c-4b63-86d2-12a8437f3834-0', tool_calls=[{'name': 'transfer_to_ignore_question_agent', 'args': {}, 'id': 'call_bL8eHLn0hSfw1d5yYizeN1Lu', 'type': 'tool_call'}], usage_metadata={'input_tokens': 194, 'output_tokens': 13, 'total_tokens': 207, 'input_token_details': {'audio': 0, 'cache_read': 0}, 'output_token_details': {'audio': 0, 'reasoning': 0}}), ToolMessage(content='Successfully transferred to ignore_question_agent', name='transfer_to_ignore_question_agent', id='28daf583-fc81-4f9a-a434-fe7d08b059e4', tool_call_id='call_bL8eHLn0hSfw1d5yYizeN1Lu'), AIMessage(content='The question is not related to the document provided.', additional_kwargs={'refusal': None}, response_metadata={'token_usage': {'completion_tokens': 11, 'prompt_tokens': 3110, 'total_tokens': 3121, 'completion_tokens_details': {'accepted_prediction_tokens': 0, 'audio_tokens': 0, 'reasoning_tokens': 0, 'rejected_prediction_tokens': 0}, 'prompt_tokens_details': {'audio_tokens': 0, 'cached_tokens': 2944}}, 'model_name': 'gpt-4.1-2025-04-14', 'system_fingerprint': 'fp_799e4ca3f1', 'id': 'chatcmpl-BmxMXj971Y4q6Nk2gfd2rcy3NsjfF', 'service_tier': 'default', 'finish_reason': 'stop', 'logprobs': None}, name='ignore_question_agent', id='run--a586aff0-0c2d-4ca7-b6dc-be634b54b419-0', usage_metadata={'input_tokens': 3110, 'output_tokens': 11, 'total_tokens': 3121, 'input_token_details': {'audio': 0, 'cache_read': 2944}, 'output_token_details': {'audio': 0, 'reasoning': 0}}), AIMessage(content='Transferring back to supervisor', additional_kwargs={}, response_metadata={'__is_handoff_back': True}, name='ignore_question_agent', id='523a9725-430e-4fd0-82e1-eb7da96c8553', tool_calls=[{'name': 'transfer_back_to_supervisor', 'args': {}, 'id': '8a2c55af-953d-4ca8-b15f-09d01b6d34fb', 'type': 'tool_call'}]), ToolMessage(content='Successfully transferred back to supervisor', name='transfer_back_to_supervisor', id='3d15f154-80ef-4913-ad92-e8e288467644', tool_call_id='8a2c55af-953d-4ca8-b15f-09d01b6d34fb'), AIMessage(content='The question was deemed not related to the document. If you have any other questions, feel free to ask!', additional_kwargs={'refusal': None}, response_metadata={'token_usage': {'completion_tokens': 23, 'prompt_tokens': 292, 'total_tokens': 315, 'completion_tokens_details': {'accepted_prediction_tokens': 0, 'audio_tokens': 0, 'reasoning_tokens': 0, 'rejected_prediction_tokens': 0}, 'prompt_tokens_details': {'audio_tokens': 0, 'cached_tokens': 0}}, 'model_name': 'gpt-4o-2024-08-06', 'system_fingerprint': 'fp_a288987b44', 'id': 'chatcmpl-BmxMYbBNypZ3CTd5BHOCbk4fEzGHE', 'service_tier': 'default', 'finish_reason': 'stop', 'logprobs': None}, name='supervisor', id='run--8d24a33d-a91c-4b18-990c-8e491fc6dee5-0', usage_metadata={'input_tokens': 292, 'output_tokens': 23, 'total_tokens': 315, 'input_token_details': {'audio': 0, 'cache_read': 0}, 'output_token_details': {'audio': 0, 'reasoning': 0}})]}}\n"
          ]
        }
      ]
    },
    {
      "cell_type": "code",
      "source": [
        "for message in final_message_history:\n",
        "    message.pretty_print()"
      ],
      "metadata": {
        "colab": {
          "base_uri": "https://localhost:8080/"
        },
        "id": "XdB-LmUvMDvJ",
        "outputId": "7eeff361-1898-44bc-f6a0-94eed1321938"
      },
      "execution_count": null,
      "outputs": [
        {
          "output_type": "stream",
          "name": "stdout",
          "text": [
            "================================\u001b[1m Human Message \u001b[0m=================================\n",
            "\n",
            "Where is Tamil Nadu? Role of women in cricket\n",
            "==================================\u001b[1m Ai Message \u001b[0m==================================\n",
            "Name: supervisor\n",
            "Tool Calls:\n",
            "  transfer_to_ignore_question_agent (call_bL8eHLn0hSfw1d5yYizeN1Lu)\n",
            " Call ID: call_bL8eHLn0hSfw1d5yYizeN1Lu\n",
            "  Args:\n",
            "=================================\u001b[1m Tool Message \u001b[0m=================================\n",
            "Name: transfer_to_ignore_question_agent\n",
            "\n",
            "Successfully transferred to ignore_question_agent\n",
            "==================================\u001b[1m Ai Message \u001b[0m==================================\n",
            "Name: ignore_question_agent\n",
            "\n",
            "The question is not related to the document provided.\n",
            "==================================\u001b[1m Ai Message \u001b[0m==================================\n",
            "Name: ignore_question_agent\n",
            "\n",
            "Transferring back to supervisor\n",
            "Tool Calls:\n",
            "  transfer_back_to_supervisor (8a2c55af-953d-4ca8-b15f-09d01b6d34fb)\n",
            " Call ID: 8a2c55af-953d-4ca8-b15f-09d01b6d34fb\n",
            "  Args:\n",
            "=================================\u001b[1m Tool Message \u001b[0m=================================\n",
            "Name: transfer_back_to_supervisor\n",
            "\n",
            "Successfully transferred back to supervisor\n",
            "==================================\u001b[1m Ai Message \u001b[0m==================================\n",
            "Name: supervisor\n",
            "\n",
            "The question was deemed not related to the document. If you have any other questions, feel free to ask!\n"
          ]
        }
      ]
    },
    {
      "cell_type": "code",
      "source": [
        "for chunk in supervisor.stream(\n",
        "    {\n",
        "        \"messages\": [\n",
        "            {\n",
        "                \"role\": \"user\",\n",
        "                \"content\": \"How was cricket spread around the world?\",\n",
        "            }\n",
        "        ]\n",
        "    },\n",
        "):\n",
        "    print(chunk)\n",
        "\n",
        "final_message_history = chunk[\"supervisor\"][\"messages\"]\n"
      ],
      "metadata": {
        "colab": {
          "base_uri": "https://localhost:8080/"
        },
        "id": "lCCGHPNVwP_J",
        "outputId": "8c99bc40-d198-4490-c2f3-412582116e3a"
      },
      "execution_count": null,
      "outputs": [
        {
          "output_type": "stream",
          "name": "stderr",
          "text": [
            "WARNING:langgraph:Task supervisor with path ('__pregel_pull', 'supervisor') wrote to unknown channel is_last_step, ignoring it.\n",
            "WARNING:langgraph:Task supervisor with path ('__pregel_pull', 'supervisor') wrote to unknown channel remaining_steps, ignoring it.\n"
          ]
        },
        {
          "output_type": "stream",
          "name": "stdout",
          "text": [
            "{'supervisor': {'messages': [HumanMessage(content='How was cricket spread arounf the world?', additional_kwargs={}, response_metadata={}, id='b9109e70-a48d-45dc-b5b0-46361a2cd0d2'), AIMessage(content='', additional_kwargs={'tool_calls': [{'id': 'call_KFgQGnzYKle5qHJVeahyVGlj', 'function': {'arguments': '{}', 'name': 'transfer_to_ignore_question_agent'}, 'type': 'function'}], 'refusal': None}, response_metadata={'token_usage': {'completion_tokens': 13, 'prompt_tokens': 194, 'total_tokens': 207, 'completion_tokens_details': {'accepted_prediction_tokens': 0, 'audio_tokens': 0, 'reasoning_tokens': 0, 'rejected_prediction_tokens': 0}, 'prompt_tokens_details': {'audio_tokens': 0, 'cached_tokens': 0}}, 'model_name': 'gpt-4o-2024-08-06', 'system_fingerprint': 'fp_a288987b44', 'id': 'chatcmpl-BmzqFfTluGy0sbj0f1unu8Ala0aSL', 'service_tier': 'default', 'finish_reason': 'tool_calls', 'logprobs': None}, name='supervisor', id='run--e21c4724-e247-4b4c-9d6c-66ac2e355f70-0', tool_calls=[{'name': 'transfer_to_ignore_question_agent', 'args': {}, 'id': 'call_KFgQGnzYKle5qHJVeahyVGlj', 'type': 'tool_call'}], usage_metadata={'input_tokens': 194, 'output_tokens': 13, 'total_tokens': 207, 'input_token_details': {'audio': 0, 'cache_read': 0}, 'output_token_details': {'audio': 0, 'reasoning': 0}}), ToolMessage(content='Successfully transferred to ignore_question_agent', name='transfer_to_ignore_question_agent', id='b2b38be5-8d7a-4015-b093-30f884d83440', tool_call_id='call_KFgQGnzYKle5qHJVeahyVGlj')]}}\n",
            "{'ignore_question_agent': {'messages': [HumanMessage(content='How was cricket spread arounf the world?', additional_kwargs={}, response_metadata={}, id='b9109e70-a48d-45dc-b5b0-46361a2cd0d2'), AIMessage(content='', additional_kwargs={'tool_calls': [{'id': 'call_KFgQGnzYKle5qHJVeahyVGlj', 'function': {'arguments': '{}', 'name': 'transfer_to_ignore_question_agent'}, 'type': 'function'}], 'refusal': None}, response_metadata={'token_usage': {'completion_tokens': 13, 'prompt_tokens': 194, 'total_tokens': 207, 'completion_tokens_details': {'accepted_prediction_tokens': 0, 'audio_tokens': 0, 'reasoning_tokens': 0, 'rejected_prediction_tokens': 0}, 'prompt_tokens_details': {'audio_tokens': 0, 'cached_tokens': 0}}, 'model_name': 'gpt-4o-2024-08-06', 'system_fingerprint': 'fp_a288987b44', 'id': 'chatcmpl-BmzqFfTluGy0sbj0f1unu8Ala0aSL', 'service_tier': 'default', 'finish_reason': 'tool_calls', 'logprobs': None}, name='supervisor', id='run--e21c4724-e247-4b4c-9d6c-66ac2e355f70-0', tool_calls=[{'name': 'transfer_to_ignore_question_agent', 'args': {}, 'id': 'call_KFgQGnzYKle5qHJVeahyVGlj', 'type': 'tool_call'}], usage_metadata={'input_tokens': 194, 'output_tokens': 13, 'total_tokens': 207, 'input_token_details': {'audio': 0, 'cache_read': 0}, 'output_token_details': {'audio': 0, 'reasoning': 0}}), ToolMessage(content='Successfully transferred to ignore_question_agent', name='transfer_to_ignore_question_agent', id='b2b38be5-8d7a-4015-b093-30f884d83440', tool_call_id='call_KFgQGnzYKle5qHJVeahyVGlj'), AIMessage(content='The question is not related to the document provided.', additional_kwargs={'refusal': None}, response_metadata={'token_usage': {'completion_tokens': 11, 'prompt_tokens': 3110, 'total_tokens': 3121, 'completion_tokens_details': {'accepted_prediction_tokens': 0, 'audio_tokens': 0, 'reasoning_tokens': 0, 'rejected_prediction_tokens': 0}, 'prompt_tokens_details': {'audio_tokens': 0, 'cached_tokens': 0}}, 'model_name': 'gpt-4.1-2025-04-14', 'system_fingerprint': 'fp_799e4ca3f1', 'id': 'chatcmpl-BmzqHvWyfxfwqtKJYui9wXaRXES41', 'service_tier': 'default', 'finish_reason': 'stop', 'logprobs': None}, name='ignore_question_agent', id='run--10332c1c-b824-4752-867f-c1993989b656-0', usage_metadata={'input_tokens': 3110, 'output_tokens': 11, 'total_tokens': 3121, 'input_token_details': {'audio': 0, 'cache_read': 0}, 'output_token_details': {'audio': 0, 'reasoning': 0}}), AIMessage(content='Transferring back to supervisor', additional_kwargs={}, response_metadata={'__is_handoff_back': True}, name='ignore_question_agent', id='3d96e84d-68bd-425c-b2f5-2a4cbf5885d1', tool_calls=[{'name': 'transfer_back_to_supervisor', 'args': {}, 'id': 'd44d7099-2ded-41e7-9d75-8d3a0630d168', 'type': 'tool_call'}]), ToolMessage(content='Successfully transferred back to supervisor', name='transfer_back_to_supervisor', id='275c9753-0b32-46f3-b1fe-a65ea93f799b', tool_call_id='d44d7099-2ded-41e7-9d75-8d3a0630d168')]}}\n",
            "{'supervisor': {'messages': [HumanMessage(content='How was cricket spread arounf the world?', additional_kwargs={}, response_metadata={}, id='b9109e70-a48d-45dc-b5b0-46361a2cd0d2'), AIMessage(content='', additional_kwargs={'tool_calls': [{'id': 'call_KFgQGnzYKle5qHJVeahyVGlj', 'function': {'arguments': '{}', 'name': 'transfer_to_ignore_question_agent'}, 'type': 'function'}], 'refusal': None}, response_metadata={'token_usage': {'completion_tokens': 13, 'prompt_tokens': 194, 'total_tokens': 207, 'completion_tokens_details': {'accepted_prediction_tokens': 0, 'audio_tokens': 0, 'reasoning_tokens': 0, 'rejected_prediction_tokens': 0}, 'prompt_tokens_details': {'audio_tokens': 0, 'cached_tokens': 0}}, 'model_name': 'gpt-4o-2024-08-06', 'system_fingerprint': 'fp_a288987b44', 'id': 'chatcmpl-BmzqFfTluGy0sbj0f1unu8Ala0aSL', 'service_tier': 'default', 'finish_reason': 'tool_calls', 'logprobs': None}, name='supervisor', id='run--e21c4724-e247-4b4c-9d6c-66ac2e355f70-0', tool_calls=[{'name': 'transfer_to_ignore_question_agent', 'args': {}, 'id': 'call_KFgQGnzYKle5qHJVeahyVGlj', 'type': 'tool_call'}], usage_metadata={'input_tokens': 194, 'output_tokens': 13, 'total_tokens': 207, 'input_token_details': {'audio': 0, 'cache_read': 0}, 'output_token_details': {'audio': 0, 'reasoning': 0}}), ToolMessage(content='Successfully transferred to ignore_question_agent', name='transfer_to_ignore_question_agent', id='b2b38be5-8d7a-4015-b093-30f884d83440', tool_call_id='call_KFgQGnzYKle5qHJVeahyVGlj'), AIMessage(content='The question is not related to the document provided.', additional_kwargs={'refusal': None}, response_metadata={'token_usage': {'completion_tokens': 11, 'prompt_tokens': 3110, 'total_tokens': 3121, 'completion_tokens_details': {'accepted_prediction_tokens': 0, 'audio_tokens': 0, 'reasoning_tokens': 0, 'rejected_prediction_tokens': 0}, 'prompt_tokens_details': {'audio_tokens': 0, 'cached_tokens': 0}}, 'model_name': 'gpt-4.1-2025-04-14', 'system_fingerprint': 'fp_799e4ca3f1', 'id': 'chatcmpl-BmzqHvWyfxfwqtKJYui9wXaRXES41', 'service_tier': 'default', 'finish_reason': 'stop', 'logprobs': None}, name='ignore_question_agent', id='run--10332c1c-b824-4752-867f-c1993989b656-0', usage_metadata={'input_tokens': 3110, 'output_tokens': 11, 'total_tokens': 3121, 'input_token_details': {'audio': 0, 'cache_read': 0}, 'output_token_details': {'audio': 0, 'reasoning': 0}}), AIMessage(content='Transferring back to supervisor', additional_kwargs={}, response_metadata={'__is_handoff_back': True}, name='ignore_question_agent', id='3d96e84d-68bd-425c-b2f5-2a4cbf5885d1', tool_calls=[{'name': 'transfer_back_to_supervisor', 'args': {}, 'id': 'd44d7099-2ded-41e7-9d75-8d3a0630d168', 'type': 'tool_call'}]), ToolMessage(content='Successfully transferred back to supervisor', name='transfer_back_to_supervisor', id='275c9753-0b32-46f3-b1fe-a65ea93f799b', tool_call_id='d44d7099-2ded-41e7-9d75-8d3a0630d168'), AIMessage(content='The question is not related to the document. Please ask a question related to the document.', additional_kwargs={'refusal': None}, response_metadata={'token_usage': {'completion_tokens': 19, 'prompt_tokens': 292, 'total_tokens': 311, 'completion_tokens_details': {'accepted_prediction_tokens': 0, 'audio_tokens': 0, 'reasoning_tokens': 0, 'rejected_prediction_tokens': 0}, 'prompt_tokens_details': {'audio_tokens': 0, 'cached_tokens': 0}}, 'model_name': 'gpt-4o-2024-08-06', 'system_fingerprint': 'fp_a288987b44', 'id': 'chatcmpl-BmzqIRlsQ07IglaBfd5fJkrqNZcgk', 'service_tier': 'default', 'finish_reason': 'stop', 'logprobs': None}, name='supervisor', id='run--15b88f8c-9474-41fb-9ab0-8feaa9696aed-0', usage_metadata={'input_tokens': 292, 'output_tokens': 19, 'total_tokens': 311, 'input_token_details': {'audio': 0, 'cache_read': 0}, 'output_token_details': {'audio': 0, 'reasoning': 0}})]}}\n"
          ]
        }
      ]
    }
  ]
}